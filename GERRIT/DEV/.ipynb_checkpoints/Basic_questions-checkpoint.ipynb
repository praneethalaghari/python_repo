{
 "cells": [
  {
   "cell_type": "markdown",
   "metadata": {},
   "source": [
    "### Even - Odd"
   ]
  },
  {
   "cell_type": "code",
   "execution_count": 13,
   "metadata": {},
   "outputs": [
    {
     "name": "stdout",
     "output_type": "stream",
     "text": [
      "Enter the number :4\n",
      "Even\n"
     ]
    }
   ],
   "source": [
    "n = int(input('Enter the number :'))\n",
    "if n % 2 == 0:print(\"Even\")\n",
    "else: print(\"Odd\")"
   ]
  },
  {
   "cell_type": "markdown",
   "metadata": {},
   "source": [
    "### Reverse of a num"
   ]
  },
  {
   "cell_type": "code",
   "execution_count": null,
   "metadata": {},
   "outputs": [],
   "source": [
    "n = int(input('Enter the num to be reversed'))\n",
    "print(\"Original Number : \", n)\n",
    "\n",
    "rev = 0\n",
    "\n",
    "while n > 0:\n",
    "    s = n%10\n",
    "    rev = rev + s * 10**(len(str(n))-1)\n",
    "    n = n // 10\n",
    "print(\"reversed Number :\", rev)\n",
    "\n",
    "# This will behave incorrectly if last or first element is '0' and we want that to be in reverse\n",
    "# However this will work fine with 0 in the mid of the number\n",
    "\n",
    "# Trick is to use array\n",
    "n = int(input('Enter the num to be reversed with at the end'))\n",
    "rev_arr = []\n",
    "\n",
    "while n>0:\n",
    "    s = n%10\n",
    "    n = n//10\n",
    "    rev_arr.append(str(s))\n",
    "    \n",
    "rev_arr = \"\".join(rev_arr)\n",
    "print(rev_arr)\n",
    "\n",
    "# But Note that the above code still dont work if 0 is in beginning..\n",
    "# Beccause int(input('Enter')) will ignore the preceeding zeros i. it makes '0123' to 123 so rev will be 321\n",
    "# So consider the whole number as string convert to list and do swap.. and then join..\n",
    "\n",
    "n = input('Enter the num to be reversed with at 0 at the begin and end')\n",
    "n = list(n)\n",
    "for i in range(len(n)//2):\n",
    "    n[i],n[len(n) - 1 - i] = n[len(n) - 1 - i],n[i]\n",
    "print(\"\".join(n))\n",
    "\n"
   ]
  },
  {
   "cell_type": "markdown",
   "metadata": {},
   "source": [
    "## Sum of the elements"
   ]
  },
  {
   "cell_type": "code",
   "execution_count": 26,
   "metadata": {},
   "outputs": [
    {
     "name": "stdout",
     "output_type": "stream",
     "text": [
      "65\n",
      "65\n",
      "65\n",
      "65\n",
      "65\n"
     ]
    }
   ],
   "source": [
    "abc = [3,2,4,5,6,7,8,9,10,11]\n",
    "\n",
    "print(sum(abc))\n",
    "\n",
    "x = 0 \n",
    "for i in abc:\n",
    "    x = x + i\n",
    "print(x)\n",
    "\n",
    "y = 0\n",
    "for i in range(len(abc)):\n",
    "    y = y + abc[i]\n",
    "print(y)\n",
    "\n",
    "import itertools\n",
    "print(list(itertools.accumulate(abc))[-1])\n",
    "\n",
    "import functools\n",
    "print(functools.reduce(lambda x,y:x+y,abc))"
   ]
  },
  {
   "cell_type": "code",
   "execution_count": 65,
   "metadata": {},
   "outputs": [
    {
     "name": "stdout",
     "output_type": "stream",
     "text": [
      "10\n",
      "10\n",
      "10\n",
      "10\n",
      "10\n"
     ]
    }
   ],
   "source": [
    "## Count the number\n",
    "print(len(abc))\n",
    "\n",
    "print(abc.index(abc[-1])+1)\n",
    "\n",
    "count = 0\n",
    "for i in abc:\n",
    "    count +=1\n",
    "print(count)\n",
    "\n",
    "print(abc.index(next(reversed(abc))) + 1)\n",
    "\n",
    "#To convert list to iterator\n",
    "\n",
    "#it = iter(abc)\n",
    "#print(next(it))\n",
    "\n",
    "#To convert iterator to list\n",
    "\n",
    "#li = list(iterator)\n",
    "#[x for x in iterator]\n",
    "\n",
    "#from itertools import repeat\n",
    "#lots_of_num = repeat(4,times = 1)\n",
    "#print(next(lots_of_num))\n",
    "\n",
    "it = iter(abc)\n",
    "count = 0\n",
    "\n",
    "try:\n",
    "    while True:\n",
    "        next(it)\n",
    "        count +=1\n",
    "except:\n",
    "    print(count)\n"
   ]
  },
  {
   "cell_type": "markdown",
   "metadata": {},
   "source": [
    "### Palindrome"
   ]
  },
  {
   "cell_type": "code",
   "execution_count": 76,
   "metadata": {},
   "outputs": [
    {
     "name": "stdout",
     "output_type": "stream",
     "text": [
      "Enter a string\n",
      "The given string is a Palindrome\n"
     ]
    }
   ],
   "source": [
    "name = input(\"Enter a string\")\n",
    "\n",
    "for i in range(len(name)//2):\n",
    "    if name[i] == name[len(name)-i-1]:\n",
    "        pass\n",
    "    else:\n",
    "        print(\"Not a palindrome\")\n",
    "        break\n",
    "else:\n",
    "    print(\"The given string is a Palindrome\")"
   ]
  },
  {
   "cell_type": "markdown",
   "metadata": {},
   "source": [
    "### Prime Number "
   ]
  },
  {
   "cell_type": "code",
   "execution_count": 103,
   "metadata": {},
   "outputs": [
    {
     "name": "stdout",
     "output_type": "stream",
     "text": [
      "Enter a number to check if it is prime or not : 8\n",
      "Number is not prime\n",
      "1\n",
      "2\n",
      "3\n",
      "5\n",
      "7\n",
      "Print Number of prime numbers you want : 8\n",
      "1\n",
      "2\n",
      "3\n",
      "5\n",
      "7\n",
      "11\n",
      "13\n",
      "17\n"
     ]
    }
   ],
   "source": [
    "n = int(input(\"Enter a number to check if it is prime or not : \"))\n",
    "\n",
    "i = 2\n",
    "while i < n:\n",
    "    if n%i == 0:\n",
    "        print(\"Number is not prime\")\n",
    "        break\n",
    "    i+=1\n",
    "else:\n",
    "    print(\"Number is prime\")\n",
    "    \n",
    "    \n",
    "## Print all the prime numbers between 1 to 100\n",
    "\n",
    "for n in range(1,10):\n",
    "    i = 2\n",
    "    while i<n:\n",
    "        if n%i ==0:\n",
    "            break\n",
    "        i+=1\n",
    "    else:\n",
    "        print(n)\n",
    "        \n",
    "## Print first n prime numbers :\n",
    "\n",
    "n = int(input(\"Print Number of prime numbers you want : \"))\n",
    "count = 0\n",
    "num = 1\n",
    "\n",
    "while count < n:\n",
    "    i = 2\n",
    "    while i < num:\n",
    "        if num%i == 0:\n",
    "            break\n",
    "        i+=1\n",
    "    else:\n",
    "        print(num)\n",
    "        count +=1\n",
    "    num +=1\n",
    "    \n",
    "    \n",
    "    "
   ]
  },
  {
   "cell_type": "markdown",
   "metadata": {},
   "source": [
    "### Fibanocci series"
   ]
  },
  {
   "cell_type": "code",
   "execution_count": 125,
   "metadata": {},
   "outputs": [
    {
     "name": "stdout",
     "output_type": "stream",
     "text": [
      "Enter the number of fibanocci numbers to generate : 3\n",
      "0\n",
      "1\n",
      "1\n",
      "Enter the number till fibannocci should generate :1000\n",
      "0\n",
      "1\n",
      "1\n",
      "2\n",
      "3\n",
      "5\n",
      "8\n",
      "13\n",
      "21\n",
      "34\n",
      "55\n",
      "89\n",
      "144\n",
      "233\n",
      "377\n",
      "610\n",
      "987\n",
      "Enter number to print its previous and next fibanocci : 16\n",
      "Previous Fibanocci :  10\n",
      "Next Fibanocci :  26\n",
      "2\n",
      "3\n",
      "5\n",
      "8\n",
      "13\n",
      "21\n",
      "34\n",
      "55\n",
      "89\n",
      "144\n"
     ]
    }
   ],
   "source": [
    "n = int(input(\"Enter the number of fibanocci numbers to generate : \"))\n",
    "\n",
    "f1 = 0\n",
    "f2 = 1\n",
    "print(f1,f2,sep = '\\n')\n",
    "\n",
    "for i in range(n - 2):\n",
    "    f1,f2 = f2,f1 + f2\n",
    "    print(f2)\n",
    "    \n",
    "\n",
    "    \n",
    "n = int(input(\"Enter the number till fibannocci should generate :\"))\n",
    "\n",
    "f1 = 0\n",
    "f2 = 1\n",
    "print(f1,f2,sep='\\n')\n",
    "\n",
    "while True:\n",
    "    f1,f2 = f2,f1+f2\n",
    "    if f2 < n:\n",
    "        print(f2)\n",
    "    else:\n",
    "        break\n",
    "\n",
    "        \n",
    "# To check if a number is fibanocci or not:\n",
    "n = int(input(\"Enter number to print its previous and next fibanocci : \"))\n",
    "print(\"Previous Fibanocci : \", round(n / 1.618))\n",
    "print(\"Next Fibanocci : \", round(n * 1.618))\n",
    "\n",
    "fib = 1\n",
    "for i in range(10):\n",
    "    fib = round(fib * 1.618)\n",
    "    print(fib)"
   ]
  },
  {
   "cell_type": "code",
   "execution_count": null,
   "metadata": {},
   "outputs": [],
   "source": []
  }
 ],
 "metadata": {
  "kernelspec": {
   "display_name": "Python 3",
   "language": "python",
   "name": "python3"
  },
  "language_info": {
   "codemirror_mode": {
    "name": "ipython",
    "version": 3
   },
   "file_extension": ".py",
   "mimetype": "text/x-python",
   "name": "python",
   "nbconvert_exporter": "python",
   "pygments_lexer": "ipython3",
   "version": "3.6.5"
  }
 },
 "nbformat": 4,
 "nbformat_minor": 2
}
