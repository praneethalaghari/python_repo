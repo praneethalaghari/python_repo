{
 "cells": [
  {
   "cell_type": "markdown",
   "metadata": {},
   "source": [
    "\n",
    "## Program for array rotation\n",
    "\n"
   ]
  },
  {
   "cell_type": "markdown",
   "metadata": {},
   "source": [
    "#### Write a function rotate(ar[], d, n) that rotates arr[] of size n by d elements.\n"
   ]
  },
  {
   "cell_type": "markdown",
   "metadata": {},
   "source": [
    "#### Left Shift And Right Shift"
   ]
  },
  {
   "cell_type": "code",
   "execution_count": 43,
   "metadata": {},
   "outputs": [
    {
     "name": "stdout",
     "output_type": "stream",
     "text": [
      "7\n",
      "Original Array : array('i', [0, 1, 2, 3, 4, 5, 6, 7, 8, 9])\n",
      "Rotated Array :  array('i', [7, 8, 9, 0, 1, 2, 3, 4, 5, 6])\n"
     ]
    }
   ],
   "source": [
    "import array\n",
    "import random\n",
    "import copy\n",
    "\n",
    "def array_generator(n):\n",
    "    arr = array.array('i',range(n))\n",
    "    return arr\n",
    "    \n",
    "def shift(arr,d):\n",
    "    arr_len = len(arr)\n",
    "    \n",
    "    d = d%arr_len              # This is for left shift\n",
    "    \n",
    "    #d = arr_len - d%arr_len   # This is for right shift\n",
    "    \n",
    "    print(d)\n",
    "    \n",
    "    \n",
    "    print(\"Original Array : \" + str(arr))\n",
    "    new_arr = copy.deepcopy(arr)\n",
    "    \n",
    "    for i in range(len(arr)):\n",
    "        new_arr[i] = arr[(i + d)%arr_len]\n",
    "        \n",
    "    print(\"Rotated Array : \", new_arr)\n",
    "        \n",
    "    \n",
    "if __name__ == '__main__':\n",
    "    arr = array_generator(10)\n",
    "    \n",
    "    num_of_rotations = 177\n",
    "    shift_array = shift(arr,num_of_rotations)\n",
    "    "
   ]
  },
  {
   "cell_type": "code",
   "execution_count": null,
   "metadata": {},
   "outputs": [],
   "source": []
  }
 ],
 "metadata": {
  "kernelspec": {
   "display_name": "Python 3",
   "language": "python",
   "name": "python3"
  },
  "language_info": {
   "codemirror_mode": {
    "name": "ipython",
    "version": 3
   },
   "file_extension": ".py",
   "mimetype": "text/x-python",
   "name": "python",
   "nbconvert_exporter": "python",
   "pygments_lexer": "ipython3",
   "version": "3.6.5"
  }
 },
 "nbformat": 4,
 "nbformat_minor": 2
}
