{
 "cells": [
  {
   "cell_type": "markdown",
   "metadata": {},
   "source": [
    "## Binary Search"
   ]
  },
  {
   "cell_type": "code",
   "execution_count": 95,
   "metadata": {},
   "outputs": [
    {
     "name": "stdout",
     "output_type": "stream",
     "text": [
      "Original List  [4, 7, 74, 24, 86, 49, 79, 94, 85, 69, 13, 60, 61, 44, 22, 92, 93, 68, 19, 70, 21, 28, 84, 8, 97, 47, 50, 16, 31, 59, 96, 57, 72, 54, 3, 56, 26, 23, 83, 46]\n",
      "Sorted List [3, 4, 7, 8, 13, 16, 19, 21, 22, 23, 24, 26, 28, 31, 44, 46, 47, 49, 50, 54, 56, 57, 59, 60, 61, 68, 69, 70, 72, 74, 79, 83, 84, 85, 86, 92, 93, 94, 96, 97]\n",
      "Element not found\n"
     ]
    }
   ],
   "source": [
    "import random\n",
    "\n",
    "def random_arr_generator(n):\n",
    "    arr = random.sample(range(0,99),n)\n",
    "    return arr\n",
    "\n",
    "def binary_search(num,arr):\n",
    "    if num == arr[len(arr)//2]:\n",
    "        return 0,len(arr)//2\n",
    "    elif len(arr) == 1:\n",
    "        return 1,None\n",
    "    \n",
    "    if num < arr[len(arr)//2]:\n",
    "        arr = arr[:len(arr)//2]\n",
    "    else:\n",
    "        arr = arr[len(arr)//2:]\n",
    "    \n",
    "    return binary_search(num,arr)\n",
    "    \n",
    "    \n",
    "if __name__ == '__main__':\n",
    "    n = 40\n",
    "    arr = random_arr_generator(n)\n",
    "    print(\"Original List \",arr)\n",
    "    \n",
    "    arr.sort()\n",
    "    print(\"Sorted List\", arr)\n",
    "    \n",
    "    num_to_search = 40\n",
    "    status,pos = binary_search(num_to_search,arr)\n",
    "    \n",
    "    if not status:\n",
    "        print(\"Element found\")\n",
    "    else:\n",
    "        print(\"Element not found\")"
   ]
  },
  {
   "cell_type": "code",
   "execution_count": null,
   "metadata": {},
   "outputs": [],
   "source": []
  }
 ],
 "metadata": {
  "kernelspec": {
   "display_name": "Python 3",
   "language": "python",
   "name": "python3"
  },
  "language_info": {
   "codemirror_mode": {
    "name": "ipython",
    "version": 3
   },
   "file_extension": ".py",
   "mimetype": "text/x-python",
   "name": "python",
   "nbconvert_exporter": "python",
   "pygments_lexer": "ipython3",
   "version": "3.6.5"
  }
 },
 "nbformat": 4,
 "nbformat_minor": 2
}
