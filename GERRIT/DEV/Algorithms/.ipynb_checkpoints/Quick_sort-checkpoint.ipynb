{
 "cells": [
  {
   "cell_type": "code",
   "execution_count": null,
   "metadata": {},
   "outputs": [],
   "source": [
    "import array\n",
    "import random\n",
    "\n",
    "def array_generator(n):\n",
    "    arr = random.sample(range(0,99),n)\n",
    "    return arr\n",
    "\n",
    "def quick_sort(arr,low,pivot):\n",
    "    \n",
    "    if len(arr) == 0:\n",
    "        return\n",
    "    \n",
    "    high = pivot - 1\n",
    "    \n",
    "    while low < high:\n",
    "        if arr[low] < arr[pivot]:\n",
    "            low +=1\n",
    "        elif arr[high] > arr[pivot]:\n",
    "            high +=1\n",
    "        elif arr[low] > arr[pivot] and arr[high] < arr[pivot]:\n",
    "            arr[low],arr[high] = arr[high],arr[low]\n",
    "            low +=1\n",
    "            high +=1\n",
    "    else:\n",
    "        if arr[low] > arr[pivot]:\n",
    "            arr[low],arr[pivot] = arr[pivot],arr[low]\n",
    "        else:\n",
    "            low +=1\n",
    "        return\n",
    "            \n",
    "    quick_sort(arr[0:low-1],0,len(arr[0:low-1])-1)\n",
    "    quick_sort(arr[low+1,:],0,len(arr[low+1,:])-1)\n",
    "    \n",
    "    return arr\n",
    "    \n",
    "    \n",
    "    \n",
    "                \n",
    "        \n",
    "\n",
    "if __name__ == '__main__':\n",
    "    n = 8\n",
    "    arr = array_generator(n)\n",
    "    print(\"Original array \", arr)\n",
    "    \n",
    "    \n",
    "    pivot = len(arr)-1\n",
    "    \n",
    "    low = 0\n",
    "    high = pivot -1 \n",
    "    \n",
    "    \n",
    " "
   ]
  },
  {
   "cell_type": "code",
   "execution_count": null,
   "metadata": {},
   "outputs": [],
   "source": [
    "    sorted_array = quick_sort(arr,low,pivot)\n",
    "    print(sorted_array)\n",
    "    "
   ]
  },
  {
   "cell_type": "code",
   "execution_count": null,
   "metadata": {},
   "outputs": [],
   "source": []
  }
 ],
 "metadata": {
  "kernelspec": {
   "display_name": "Python 3",
   "language": "python",
   "name": "python3"
  },
  "language_info": {
   "codemirror_mode": {
    "name": "ipython",
    "version": 3
   },
   "file_extension": ".py",
   "mimetype": "text/x-python",
   "name": "python",
   "nbconvert_exporter": "python",
   "pygments_lexer": "ipython3",
   "version": "3.6.5"
  }
 },
 "nbformat": 4,
 "nbformat_minor": 2
}
