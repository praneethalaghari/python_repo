{
 "cells": [
  {
   "cell_type": "markdown",
   "metadata": {},
   "source": [
    "## Sorting_0s_1s_2s"
   ]
  },
  {
   "cell_type": "code",
   "execution_count": 2,
   "metadata": {},
   "outputs": [
    {
     "name": "stdout",
     "output_type": "stream",
     "text": [
      "[2, 0, 0, 2, 2, 2, 0, 0, 0, 0, 2, 2, 1, 1, 2, 1, 0, 0, 0, 2]\n",
      "Partial swapped array :  [0, 0, 0, 0, 0, 0, 0, 0, 0, 2, 2, 2, 1, 1, 2, 1, 2, 2, 2, 2]\n",
      "Completely swapped array :  [0, 0, 0, 0, 0, 0, 0, 0, 0, 1, 1, 1, 2, 2, 2, 2, 2, 2, 2, 2]\n"
     ]
    }
   ],
   "source": [
    "import random\n",
    "\n",
    "def array_generator(n):\n",
    "    #arr = [random.choice(range(3)) for _ in range(n)]\n",
    "    #arr = [random.randrange(0,3) for _ in range(n)]\n",
    "    arr = [random.randint(0,2) for _ in range(n)]\n",
    "    return arr\n",
    "\n",
    "def sort_zeros_ones_twos(arr):\n",
    "    i = 0\n",
    "    #j = len(arr)//2\n",
    "    k = len(arr)-1\n",
    "\n",
    "    while(i < k):\n",
    "        if arr[i]==0:\n",
    "            i+=1\n",
    "        else:\n",
    "            if arr[k] !=0:\n",
    "                k-=1\n",
    "            else:\n",
    "                arr[i],arr[k] = arr[k],arr[i]\n",
    "    print(\"Partial swapped array : \",arr)\n",
    "    \n",
    "    \n",
    "    i = 0\n",
    "    k = len(arr)-1\n",
    "    \n",
    "    while(i < k):\n",
    "        if arr[i]==1 or arr[i] ==0:\n",
    "            i+=1\n",
    "        else:\n",
    "            if arr[k] !=1:\n",
    "                k-=1\n",
    "            else:\n",
    "                arr[i],arr[k] = arr[k],arr[i]\n",
    "    print(\"Completely swapped array : \",arr)\n",
    "                \n",
    "                \n",
    "                \n",
    "            \n",
    "    \n",
    "\n",
    "if __name__ == '__main__':\n",
    "    num_of_elements = 20\n",
    "    arr = array_generator(num_of_elements)\n",
    "    print(arr)\n",
    "    \n",
    "    sort_zeros_ones_twos(arr)"
   ]
  },
  {
   "cell_type": "markdown",
   "metadata": {},
   "source": [
    "### Alternate way"
   ]
  },
  {
   "cell_type": "code",
   "execution_count": null,
   "metadata": {},
   "outputs": [],
   "source": [
    "import random\n",
    "\n",
    "def array_generator(n):\n",
    "    #arr = [random.choice(range(3)) for _ in range(n)]\n",
    "    #arr = [random.randrange(0,3) for _ in range(n)]\n",
    "    arr = [random.randint(0,2) for _ in range(n)]\n",
    "    return arr\n",
    "\n",
    "def sort_zeros_ones_twos(a):\n",
    "    \n",
    "    low = 0\n",
    "    mid = 0\n",
    "    hig = len(arr)-1\n",
    "\n",
    "    print(\"Hello\")\n",
    "    while mid <= hig:\n",
    "        if a[mid] == 0:\n",
    "            a[low],a[mid] = a[mid],a[low]\n",
    "            low = low +1\n",
    "            mid = mid +1\n",
    "        elif a[mid] == 1:\n",
    "            mid = mid +1\n",
    "        else:\n",
    "            a[mid],a[hig] = a[hig],a[mid]\n",
    "            hig = hig - 1\n",
    "    print(arr)\n",
    "\n",
    "if __name__ == '__main__':\n",
    "    num_of_elements = 20\n",
    "    arr = array_generator(num_of_elements)\n",
    "    print(arr)\n",
    "    \n",
    "    sort_zeros_ones_twos(arr)"
   ]
  },
  {
   "cell_type": "code",
   "execution_count": null,
   "metadata": {},
   "outputs": [],
   "source": []
  }
 ],
 "metadata": {
  "kernelspec": {
   "display_name": "Python 3",
   "language": "python",
   "name": "python3"
  },
  "language_info": {
   "codemirror_mode": {
    "name": "ipython",
    "version": 3
   },
   "file_extension": ".py",
   "mimetype": "text/x-python",
   "name": "python",
   "nbconvert_exporter": "python",
   "pygments_lexer": "ipython3",
   "version": "3.6.5"
  }
 },
 "nbformat": 4,
 "nbformat_minor": 2
}
