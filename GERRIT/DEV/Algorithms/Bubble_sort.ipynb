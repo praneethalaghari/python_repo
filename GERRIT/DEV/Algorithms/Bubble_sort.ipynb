{
 "cells": [
  {
   "cell_type": "markdown",
   "metadata": {},
   "source": [
    "## Bubble Sort"
   ]
  },
  {
   "cell_type": "code",
   "execution_count": 58,
   "metadata": {},
   "outputs": [
    {
     "name": "stdout",
     "output_type": "stream",
     "text": [
      "Unsorted Array :  [30, 21, 19, 98, 95, 41, 40, 3, 81, 80, 67, 88, 51, 18, 24, 31, 13, 43, 36, 62, 25, 12, 90, 84, 29]\n",
      "Sorted Array :  [3, 12, 13, 18, 19, 21, 24, 25, 29, 30, 31, 36, 40, 41, 43, 51, 62, 67, 80, 81, 84, 88, 90, 95, 98]\n"
     ]
    }
   ],
   "source": [
    "import array\n",
    "import random\n",
    "\n",
    "def array_generator(n):\n",
    "    arr = random.sample(range(99),n)\n",
    "    return arr\n",
    "\n",
    "def bubble_sort(arr):\n",
    "    for i in range(len(arr)-1):\n",
    "        for j in range(0,len(arr)-i-1):\n",
    "            if arr[j] > arr[j+1]:\n",
    "                arr[j],arr[j+1] = arr[j+1],arr[j]\n",
    "    return arr\n",
    "\n",
    "#Another way\n",
    "\n",
    "#def insertion_sort(arr):\n",
    "#    for i in range(len(arr)):\n",
    "#        for j in range(i,len(arr)):\n",
    "#            if arr[i] < arr[j]:\n",
    "#                arr[i],arr[j] = arr[j],arr[i]\n",
    "#    return arr\n",
    "        \n",
    "\n",
    "if __name__ == '__main__':\n",
    "    arr = array_generator(25)\n",
    "    print(\"Unsorted Array : \",arr)\n",
    "    sorted_array = bubble_sort(arr)\n",
    "    print(\"Sorted Array : \",arr)"
   ]
  },
  {
   "cell_type": "code",
   "execution_count": null,
   "metadata": {},
   "outputs": [],
   "source": []
  }
 ],
 "metadata": {
  "kernelspec": {
   "display_name": "Python 3",
   "language": "python",
   "name": "python3"
  },
  "language_info": {
   "codemirror_mode": {
    "name": "ipython",
    "version": 3
   },
   "file_extension": ".py",
   "mimetype": "text/x-python",
   "name": "python",
   "nbconvert_exporter": "python",
   "pygments_lexer": "ipython3",
   "version": "3.6.5"
  }
 },
 "nbformat": 4,
 "nbformat_minor": 2
}
