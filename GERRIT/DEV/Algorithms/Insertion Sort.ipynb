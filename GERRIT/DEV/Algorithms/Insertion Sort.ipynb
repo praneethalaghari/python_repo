{
 "cells": [
  {
   "cell_type": "code",
   "execution_count": 46,
   "metadata": {},
   "outputs": [
    {
     "name": "stdout",
     "output_type": "stream",
     "text": [
      "[27, 67, 96, 78, 64, 98, 68, 55, 53, 75]\n",
      "[27, 67, 78, 96, 64, 98, 68, 55, 53, 75]\n",
      "[27, 64, 67, 78, 96, 98, 68, 55, 53, 75]\n",
      "[27, 64, 67, 68, 78, 96, 98, 55, 53, 75]\n",
      "[27, 55, 64, 67, 68, 78, 96, 98, 53, 75]\n",
      "[27, 53, 55, 64, 67, 68, 78, 96, 98, 75]\n",
      "[27, 53, 55, 64, 67, 68, 75, 78, 96, 98]\n",
      "[27, 53, 55, 64, 67, 68, 75, 78, 96, 98]\n"
     ]
    }
   ],
   "source": [
    "import random\n",
    "import array\n",
    "\n",
    "def array_generator(n):\n",
    "    arr = random.sample(range(0,99),n)\n",
    "    return arr\n",
    "\n",
    "def insertion_sort(arr):\n",
    "    for i in range(1,len(arr)):\n",
    "        if arr[i] < arr[i-1]:\n",
    "            for j in range(i):\n",
    "                if arr[i-j] < arr[i-j-1]:\n",
    "                    arr[i-j],arr[i-j-1] = arr[i-j-1],arr[i-j]\n",
    "            print(arr)\n",
    "    \n",
    "    return arr\n",
    "\n",
    "if __name__ == \"__main__\":\n",
    "    arr = array_generator(10)\n",
    "    #print(arr)\n",
    "    sorted_array = insertion_sort(arr)\n",
    "    print(sorted_array)"
   ]
  }
 ],
 "metadata": {
  "kernelspec": {
   "display_name": "Python 3",
   "language": "python",
   "name": "python3"
  },
  "language_info": {
   "codemirror_mode": {
    "name": "ipython",
    "version": 3
   },
   "file_extension": ".py",
   "mimetype": "text/x-python",
   "name": "python",
   "nbconvert_exporter": "python",
   "pygments_lexer": "ipython3",
   "version": "3.6.5"
  }
 },
 "nbformat": 4,
 "nbformat_minor": 2
}
