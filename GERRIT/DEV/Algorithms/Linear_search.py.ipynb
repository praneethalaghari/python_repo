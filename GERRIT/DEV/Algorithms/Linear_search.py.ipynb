{
 "cells": [
  {
   "cell_type": "markdown",
   "metadata": {},
   "source": [
    "# Linear Search"
   ]
  },
  {
   "cell_type": "code",
   "execution_count": 498,
   "metadata": {},
   "outputs": [
    {
     "name": "stdout",
     "output_type": "stream",
     "text": [
      "Original list :\n",
      "[41, 37, 4, 34, 31, 1, 2, 17, 24, 26, 47, 48, 21, 30, 50, 46, 44, 43, 23, 40, 19, 8, 28, 3, 38, 12, 15, 13, 36, 25, 49, 29, 18, 45, 20, 33, 5, 7, 22, 16]\n",
      "Element found at pos : 14\n"
     ]
    }
   ],
   "source": [
    "import random\n",
    "\n",
    "def random_array_generator(n):\n",
    "    arr = random.sample(range(51),n)\n",
    "    return arr\n",
    "\n",
    "def linear_search(num,arr):\n",
    "    for i in range(len(arr)):\n",
    "        if arr[i]==num:\n",
    "            return 0,i\n",
    "    else:\n",
    "        return 1,None\n",
    "    \n",
    "if __name__ == \"__main__\":\n",
    "    num_of_elements = 40\n",
    "    arr = random_array_generator(num_of_elements)\n",
    "    print(\"Original list :\",arr,sep=\"\\n\")\n",
    "    \n",
    "    status, pos = linear_search(50,arr)\n",
    "    \n",
    "    if not status:\n",
    "        print(\"Element found at pos :\",pos)\n",
    "    else:\n",
    "        print(\"Element not found\")\n",
    "        \n",
    "    "
   ]
  },
  {
   "cell_type": "code",
   "execution_count": null,
   "metadata": {},
   "outputs": [],
   "source": []
  },
  {
   "cell_type": "code",
   "execution_count": null,
   "metadata": {},
   "outputs": [],
   "source": []
  }
 ],
 "metadata": {
  "kernelspec": {
   "display_name": "Python 3",
   "language": "python",
   "name": "python3"
  },
  "language_info": {
   "codemirror_mode": {
    "name": "ipython",
    "version": 3
   },
   "file_extension": ".py",
   "mimetype": "text/x-python",
   "name": "python",
   "nbconvert_exporter": "python",
   "pygments_lexer": "ipython3",
   "version": "3.6.5"
  }
 },
 "nbformat": 4,
 "nbformat_minor": 2
}
