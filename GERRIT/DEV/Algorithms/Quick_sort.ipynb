{
 "cells": [
  {
   "cell_type": "code",
   "execution_count": 129,
   "metadata": {},
   "outputs": [
    {
     "name": "stdout",
     "output_type": "stream",
     "text": [
      "Original array  [9, 5, 7, 3, 4, 0, 2]\n",
      "[9, 5, 7, 3, 4, 0, 2] 0 6\n",
      "[7, 3, 4, 9, 5] 0 4\n",
      "[4, 3] 0 1\n",
      "[9, 7] 0 1\n",
      "Final Array  None\n"
     ]
    }
   ],
   "source": [
    "import array\n",
    "import random\n",
    "\n",
    "def array_generator(n):\n",
    "    arr = random.sample(range(0,99),n)\n",
    "    return arr\n",
    "\n",
    "def quick_sort(arr,low,pivot):\n",
    "    \n",
    "    print(arr,low,pivot)\n",
    "    \n",
    "    high = pivot - 1\n",
    "    \n",
    "    while low < high:\n",
    "        if arr[low] < arr[pivot]:\n",
    "            low +=1\n",
    "        elif arr[high] > arr[pivot]:\n",
    "            high -=1\n",
    "        elif arr[low] > arr[pivot] and arr[high] < arr[pivot]:\n",
    "            arr[low],arr[high] = arr[high],arr[low]\n",
    "            low +=1\n",
    "            high -=1\n",
    "    else:\n",
    "        while True:\n",
    "            if arr[low] > arr[pivot]:\n",
    "                arr[low],arr[pivot] = arr[pivot],arr[low]\n",
    "                break\n",
    "            else:\n",
    "                low+=1\n",
    "      \n",
    "    #if len(arr[:low]) != 0:\n",
    "    #    print(\"left arr is\",arr[:low])\n",
    "    #if len(arr[low+1:]) != 0:\n",
    "    #    print(\"right arr is\",arr[low+1:],len(arr[low+1:]))\n",
    "    \n",
    "    if len(arr[0:low]) > 1:\n",
    "        quick_sort(arr[:low],0,len(arr[:low])-1)\n",
    "    if len(arr[low+1:]) > 1:\n",
    "        quick_sort(arr[low+1:],0,len(arr[low+1:])-1)\n",
    "    \n",
    "    \n",
    "    \n",
    "    \n",
    "                \n",
    "        \n",
    "\n",
    "if __name__ == '__main__':\n",
    "    n = 8\n",
    "    arr = array_generator(n)\n",
    "    arr = [9,5,7,3,4,0,2]\n",
    "    #arr = [7,3,4,9,5]\n",
    "    print(\"Original array \", arr)\n",
    "    \n",
    "    \n",
    "    pivot = len(arr)-1\n",
    "    \n",
    "    low = 0\n",
    "    high = pivot -1 \n",
    "    \n",
    "    sorted_array = quick_sort(arr,low,pivot)\n",
    "    print(\"Final Array \", sorted_array)\n",
    "   \n",
    "    \n",
    "    \n",
    " "
   ]
  },
  {
   "cell_type": "code",
   "execution_count": null,
   "metadata": {},
   "outputs": [],
   "source": []
  },
  {
   "cell_type": "code",
   "execution_count": null,
   "metadata": {},
   "outputs": [],
   "source": []
  },
  {
   "cell_type": "code",
   "execution_count": 101,
   "metadata": {},
   "outputs": [
    {
     "name": "stdout",
     "output_type": "stream",
     "text": [
      "[7, 12]\n",
      "[3, 1, 20, 71, 98]\n"
     ]
    }
   ],
   "source": [
    "a = [7,12,20,71,98]\n",
    "print(a[0:2])\n",
    "a[0:2] = [3,1]\n",
    "print(a)"
   ]
  }
 ],
 "metadata": {
  "kernelspec": {
   "display_name": "Python 3",
   "language": "python",
   "name": "python3"
  },
  "language_info": {
   "codemirror_mode": {
    "name": "ipython",
    "version": 3
   },
   "file_extension": ".py",
   "mimetype": "text/x-python",
   "name": "python",
   "nbconvert_exporter": "python",
   "pygments_lexer": "ipython3",
   "version": "3.6.5"
  }
 },
 "nbformat": 4,
 "nbformat_minor": 2
}
