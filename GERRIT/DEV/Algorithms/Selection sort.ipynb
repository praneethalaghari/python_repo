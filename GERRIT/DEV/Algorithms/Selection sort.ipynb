{
 "cells": [
  {
   "cell_type": "code",
   "execution_count": 28,
   "metadata": {},
   "outputs": [
    {
     "name": "stdout",
     "output_type": "stream",
     "text": [
      "[56, 32, 84, 51, 12, 52, 19, 86, 36, 55, 3, 78, 46, 47, 82, 59, 17, 74, 75, 9]\n",
      "[3, 9, 12, 17, 19, 32, 36, 46, 47, 51, 52, 55, 56, 59, 74, 75, 78, 82, 84, 86]\n"
     ]
    }
   ],
   "source": [
    "import array\n",
    "import random\n",
    "\n",
    "def array_generator(n):\n",
    "    arr = random.sample(range(99),n)\n",
    "    return arr\n",
    "\n",
    "def selection_sort(arr):\n",
    "    for i in range(0,len(arr)-1):\n",
    "        min_position = i\n",
    "        min_value = arr[i]\n",
    "        for j in range(i,len(arr)):\n",
    "            if arr[i]>arr[j]:\n",
    "                if arr[j]<min_value:\n",
    "                    min_value = arr[j]\n",
    "                    min_position = j\n",
    "        arr[i],arr[min_position] = arr[min_position],arr[i]\n",
    "        \n",
    "    return arr\n",
    "                \n",
    "\n",
    "if __name__ == '__main__':\n",
    "    n = 20\n",
    "    arr = array_generator(n)\n",
    "    print(arr)\n",
    "    sorted_array = selection_sort(arr)\n",
    "    print(sorted_array)\n",
    "    "
   ]
  },
  {
   "cell_type": "code",
   "execution_count": null,
   "metadata": {},
   "outputs": [],
   "source": []
  }
 ],
 "metadata": {
  "kernelspec": {
   "display_name": "Python 3",
   "language": "python",
   "name": "python3"
  },
  "language_info": {
   "codemirror_mode": {
    "name": "ipython",
    "version": 3
   },
   "file_extension": ".py",
   "mimetype": "text/x-python",
   "name": "python",
   "nbconvert_exporter": "python",
   "pygments_lexer": "ipython3",
   "version": "3.6.5"
  }
 },
 "nbformat": 4,
 "nbformat_minor": 2
}
