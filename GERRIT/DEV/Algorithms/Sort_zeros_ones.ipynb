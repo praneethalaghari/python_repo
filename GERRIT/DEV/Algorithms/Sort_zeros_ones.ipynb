{
 "cells": [
  {
   "cell_type": "markdown",
   "metadata": {},
   "source": [
    "## Sorting of 0's and 1's in an array"
   ]
  },
  {
   "cell_type": "code",
   "execution_count": 27,
   "metadata": {},
   "outputs": [
    {
     "name": "stdout",
     "output_type": "stream",
     "text": [
      "[1, 0, 1, 1, 1, 1, 0, 0, 1, 1, 1, 0, 0, 0, 0, 1, 1, 1, 0, 1]\n",
      "[0, 0, 0, 0, 0, 0, 0, 0, 1, 1, 1, 1, 1, 1, 1, 1, 1, 1, 1, 1]\n"
     ]
    }
   ],
   "source": [
    "import random\n",
    "\n",
    "def array_generator(num):\n",
    "    arr = [random.randint(0,1) for _ in range(num)]\n",
    "    return arr\n",
    "\n",
    "def sort_zeros_ones(arr):\n",
    "    i = 0\n",
    "    j = len(arr)-1\n",
    "    while i < j:\n",
    "        if arr[i] == 0:\n",
    "            i +=1\n",
    "        else:\n",
    "            if arr[j] == 1:\n",
    "                j -=1\n",
    "            else:\n",
    "                arr[i],arr[j] = arr[j],arr[i]\n",
    "    print(arr)\n",
    "\n",
    "if __name__ == '__main__':\n",
    "    \n",
    "    num_of_elements = 20\n",
    "    arr = array_generator(num_of_elements)\n",
    "    print(arr)\n",
    "    \n",
    "    sort_zeros_ones(arr)\n"
   ]
  }
 ],
 "metadata": {
  "kernelspec": {
   "display_name": "Python 3",
   "language": "python",
   "name": "python3"
  },
  "language_info": {
   "codemirror_mode": {
    "name": "ipython",
    "version": 3
   },
   "file_extension": ".py",
   "mimetype": "text/x-python",
   "name": "python",
   "nbconvert_exporter": "python",
   "pygments_lexer": "ipython3",
   "version": "3.6.5"
  }
 },
 "nbformat": 4,
 "nbformat_minor": 2
}
