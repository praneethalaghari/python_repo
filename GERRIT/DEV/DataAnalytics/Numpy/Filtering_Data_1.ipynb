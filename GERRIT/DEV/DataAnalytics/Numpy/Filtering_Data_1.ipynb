{
 "cells": [
  {
   "cell_type": "code",
   "execution_count": 38,
   "metadata": {},
   "outputs": [],
   "source": [
    "import numpy as np"
   ]
  },
  {
   "cell_type": "code",
   "execution_count": 132,
   "metadata": {},
   "outputs": [
    {
     "data": {
      "text/plain": [
       "{0: array([[8, 3, 2, 4, 8, 7, 2, 0, 0, 0]]),\n",
       " 1: array([[3, 8, 1, 1, 7, 5, 2, 1, 2, 2]]),\n",
       " 2: array([[5, 6, 0, 3, 3, 3, 3, 2, 2, 2]]),\n",
       " 3: array([[3, 4, 7, 2, 4, 2, 7, 3, 3, 2]]),\n",
       " 4: array([[1, 6, 4, 0, 8, 5, 2, 6, 6, 7]]),\n",
       " 5: array([[7, 6, 7, 8, 8, 3, 5, 7, 7, 3]]),\n",
       " 6: array([[0, 4, 2, 1, 1, 5, 7, 4, 0, 0]]),\n",
       " 7: array([[6, 7, 1, 2, 8, 0, 7, 2, 3, 0]]),\n",
       " 8: array([[8, 0, 3, 6, 0, 8, 8, 2, 0, 1]]),\n",
       " 9: array([[4, 5, 8, 8, 1, 6, 7, 4, 5, 7]])}"
      ]
     },
     "execution_count": 132,
     "metadata": {},
     "output_type": "execute_result"
    }
   ],
   "source": [
    "dict_x = {}\n",
    "for x in range(10):\n",
    "    dict_x[x] = np.random.randint(9,size=(1,10))\n",
    "dict_x"
   ]
  },
  {
   "cell_type": "code",
   "execution_count": 151,
   "metadata": {},
   "outputs": [
    {
     "name": "stdout",
     "output_type": "stream",
     "text": [
      "[[8 3 2 4 8 7 2 0 0 0]\n",
      " [3 8 1 1 7 5 2 1 2 2]\n",
      " [5 6 0 3 3 3 3 2 2 2]\n",
      " [3 4 7 2 4 2 7 3 3 2]\n",
      " [1 6 4 0 8 5 2 6 6 7]\n",
      " [7 6 7 8 8 3 5 7 7 3]\n",
      " [0 4 2 1 1 5 7 4 0 0]\n",
      " [6 7 1 2 8 0 7 2 3 0]\n",
      " [8 0 3 6 0 8 8 2 0 1]\n",
      " [4 5 8 8 1 6 7 4 5 7]]\n"
     ]
    }
   ],
   "source": [
    "z = np.vstack([v for k,v in dict_x.items()])\n",
    "print(z)"
   ]
  },
  {
   "cell_type": "code",
   "execution_count": 152,
   "metadata": {},
   "outputs": [
    {
     "data": {
      "text/plain": [
       "(10, 10)"
      ]
     },
     "execution_count": 152,
     "metadata": {},
     "output_type": "execute_result"
    }
   ],
   "source": [
    "z.shape"
   ]
  },
  {
   "cell_type": "code",
   "execution_count": 160,
   "metadata": {},
   "outputs": [
    {
     "data": {
      "text/plain": [
       "array([8, 4, 8, 7, 8, 7, 5, 5, 6, 4, 7, 4, 7, 6, 4, 8, 5, 6, 6, 7, 7, 6,\n",
       "       7, 8, 8, 5, 7, 7, 4, 5, 7, 4, 6, 7, 8, 7, 8, 6, 8, 8, 4, 5, 8, 8,\n",
       "       6, 7, 4, 5, 7])"
      ]
     },
     "execution_count": 160,
     "metadata": {},
     "output_type": "execute_result"
    }
   ],
   "source": [
    "z[z>3]   # Prints all the numbers greater than 3"
   ]
  },
  {
   "cell_type": "code",
   "execution_count": 161,
   "metadata": {},
   "outputs": [
    {
     "data": {
      "text/plain": [
       "array([[ True, False, False,  True,  True,  True, False, False, False,\n",
       "        False],\n",
       "       [False,  True, False, False,  True,  True, False, False, False,\n",
       "        False],\n",
       "       [ True,  True, False, False, False, False, False, False, False,\n",
       "        False],\n",
       "       [False,  True,  True, False,  True, False,  True, False, False,\n",
       "        False],\n",
       "       [False,  True,  True, False,  True,  True, False,  True,  True,\n",
       "         True],\n",
       "       [ True,  True,  True,  True,  True, False,  True,  True,  True,\n",
       "        False],\n",
       "       [False,  True, False, False, False,  True,  True,  True, False,\n",
       "        False],\n",
       "       [ True,  True, False, False,  True, False,  True, False, False,\n",
       "        False],\n",
       "       [ True, False, False,  True, False,  True,  True, False, False,\n",
       "        False],\n",
       "       [ True,  True,  True,  True, False,  True,  True,  True,  True,\n",
       "         True]])"
      ]
     },
     "execution_count": 161,
     "metadata": {},
     "output_type": "execute_result"
    }
   ],
   "source": [
    "z>3     # Just True if value > 3 else False"
   ]
  }
 ],
 "metadata": {
  "kernelspec": {
   "display_name": "Python 3",
   "language": "python",
   "name": "python3"
  },
  "language_info": {
   "codemirror_mode": {
    "name": "ipython",
    "version": 3
   },
   "file_extension": ".py",
   "mimetype": "text/x-python",
   "name": "python",
   "nbconvert_exporter": "python",
   "pygments_lexer": "ipython3",
   "version": "3.6.5"
  }
 },
 "nbformat": 4,
 "nbformat_minor": 2
}
