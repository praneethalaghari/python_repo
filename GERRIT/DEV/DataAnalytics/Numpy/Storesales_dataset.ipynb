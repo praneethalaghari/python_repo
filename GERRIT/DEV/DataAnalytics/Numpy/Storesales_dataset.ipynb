{
 "cells": [
  {
   "cell_type": "markdown",
   "metadata": {},
   "source": [
    "# STORE SALES ANALYSIS"
   ]
  },
  {
   "cell_type": "code",
   "execution_count": 26,
   "metadata": {},
   "outputs": [],
   "source": [
    "import numpy as np\n",
    "import matplotlib.pyplot as plt"
   ]
  },
  {
   "cell_type": "code",
   "execution_count": 27,
   "metadata": {},
   "outputs": [],
   "source": [
    "store = np.genfromtxt(\"Datasets/Storesales.csv\",delimiter=',',skip_header=1,usecols=[0,1],dtype='str') # # Use column '0','1' representing Store name and data\n",
    "sales = np.genfromtxt(\"Datasets/Storesales.csv\",delimiter=',',skip_header=1,usecols=2)                 # Use column '2' representing Sales \n",
    "columns = np.genfromtxt(\"Datasets/Storesales.csv\",delimiter=',',max_rows=1,dtype='str')                # Use row '1' representing the column names"
   ]
  },
  {
   "cell_type": "code",
   "execution_count": 28,
   "metadata": {
    "scrolled": true
   },
   "outputs": [
    {
     "name": "stdout",
     "output_type": "stream",
     "text": [
      "{'EAST11': 0, 'EAST14': 1, 'EAST2': 2, 'EAST23': 3, 'EAST26': 4, 'EAST6': 5, 'WEST10': 6, 'WEST17': 7, 'WEST27': 8, 'WEST33': 9, 'WEST35': 10, 'WEST41': 11, 'WEST45': 12, 'WEST47': 13}\n"
     ]
    }
   ],
   "source": [
    "# Lets create ID's to the store for individual analysis\n",
    "# Also lets assign id for days as it is feasible to work with numbers than with strings,even though operations with strings are possible \n",
    "\n",
    "\n",
    "num_of_entries = sales.shape[0]\n",
    "\n",
    "day = {'Su':0,'M':1,'Tu':2,'W':3,'Th':4,'F':5,'Sa':6}\n",
    "day_col = np.array([day[i] for i in list(store[:,1])])\n",
    "\n",
    "store_name = np.unique(store[:,0])\n",
    "store_dict = dict(zip(store_name,np.arange(len(store_name))))\n",
    "store_col = np.array([store_dict[i] for i in list(store[:,0])])\n",
    "\n",
    "print(store_dict)\n",
    "\n",
    "day_col = day_col.reshape(num_of_entries,1).astype('int')\n",
    "store_col = store_col.reshape(num_of_entries,1).astype('int')\n",
    "sales_col = sales.reshape(num_of_entries,1).astype('float')\n"
   ]
  },
  {
   "cell_type": "code",
   "execution_count": 29,
   "metadata": {},
   "outputs": [
    {
     "data": {
      "text/plain": [
       "array([[2.000e+00, 0.000e+00, 1.651e+03],\n",
       "       [2.000e+00, 1.000e+00, 8.860e+02],\n",
       "       [2.000e+00, 2.000e+00, 8.060e+02],\n",
       "       ...,\n",
       "       [1.300e+01, 4.000e+00, 3.169e+03],\n",
       "       [1.300e+01, 5.000e+00, 3.462e+03],\n",
       "       [1.300e+01, 6.000e+00, 5.558e+03]])"
      ]
     },
     "execution_count": 29,
     "metadata": {},
     "output_type": "execute_result"
    }
   ],
   "source": [
    "new_data = np.hstack([store_col,day_col,sales_col])\n",
    "np.set_printoptions(threshold=0)\n",
    "new_data"
   ]
  },
  {
   "cell_type": "markdown",
   "metadata": {},
   "source": [
    "## OVERALL CALCULATIONS"
   ]
  },
  {
   "cell_type": "code",
   "execution_count": 30,
   "metadata": {},
   "outputs": [
    {
     "name": "stdout",
     "output_type": "stream",
     "text": [
      "Mean is  2073.8061224489797\n",
      "Median is 1770.5\n"
     ]
    }
   ],
   "source": [
    "# Mean of oerall sales in the city\n",
    "mean = np.mean(sales)\n",
    "print(\"Mean is \", mean)\n",
    "\n",
    "# Medain of overall sales in the city\n",
    "median = np.median(sales)\n",
    "print(\"Median is\", median)\n",
    "\n",
    "# The huge difference in mean and median represents there are Normal and luxurious sale points in the data"
   ]
  },
  {
   "cell_type": "markdown",
   "metadata": {},
   "source": [
    "#### Total sales on Week days analysis"
   ]
  },
  {
   "cell_type": "code",
   "execution_count": 31,
   "metadata": {
    "scrolled": true
   },
   "outputs": [
    {
     "data": {
      "text/plain": [
       "[Text(0,0,'Sunday'),\n",
       " Text(0,0,'Monday'),\n",
       " Text(0,0,'Tuesday'),\n",
       " Text(0,0,'Wednessday'),\n",
       " Text(0,0,'Thursday'),\n",
       " Text(0,0,'Friday'),\n",
       " Text(0,0,'Saturday')]"
      ]
     },
     "execution_count": 31,
     "metadata": {},
     "output_type": "execute_result"
    },
    {
     "data": {
      "image/png": "[encoded data removed]",
      "text/plain": [
       "<Figure size 1152x360 with 2 Axes>"
      ]
     },
     "metadata": {
      "needs_background": "light"
     },
     "output_type": "display_data"
    }
   ],
   "source": [
    "fig,axes = plt.subplots(1,2,figsize=(16,5))\n",
    "\n",
    "\n",
    "for_day = 0\n",
    "x = new_data[new_data[:,1]==for_day]           # This is just sale data points for one day 'Sunday (0)' similarly change it to 1 to get for 'Monday' \n",
    "x_ticks = x[:,1]\n",
    "y_ticks = x[:,2]\n",
    "\n",
    "\n",
    "axes[0].scatter(x_ticks,y_ticks)\n",
    "axes[1].scatter(new_data[:,1],new_data[:,2])\n",
    "axes[0].set_title(\"Plot(a)\")\n",
    "axes[0].set_xlabel(\"DAY\",fontsize=12)\n",
    "axes[0].set_ylabel(\"SALES\",fontsize=12)\n",
    "axes[1].set_title(\"Plot(b)\")\n",
    "axes[0].set_xticks(range(1))\n",
    "axes[0].set_xticklabels(\"\".join([x for x,y in day.items() if y==for_day]),rotation='vertical')   # To get key from value in day dictionary\n",
    "\n",
    "\n",
    "axes[1].set_xlabel(\"DAYS\",fontsize=12)\n",
    "axes[1].set_ylabel(\"SALES\",fontsize=12)\n",
    "axes[1].set_xticks(range(7))\n",
    "axes[1].set_xticklabels([\"Sunday\",\"Monday\",\"Tuesday\",\"Wednessday\",\"Thursday\",\"Friday\",\"Saturday\"],rotation='vertical')\n"
   ]
  },
  {
   "cell_type": "markdown",
   "metadata": {},
   "source": [
    "#### Plot(a) is similary to GroupBy in SQL.. i.e group by the day of week..\n",
    "#### From the above plot we can get the highest and lowest sales for a particular day..\n",
    "#### The second plot Plot(b) is extension of first which shows sales of all the days"
   ]
  },
  {
   "cell_type": "markdown",
   "metadata": {},
   "source": [
    "### Now lets calculate Total sales on a specific day"
   ]
  },
  {
   "cell_type": "code",
   "execution_count": 32,
   "metadata": {},
   "outputs": [
    {
     "data": {
      "text/plain": [
       "[Text(0,0,'Su'),\n",
       " Text(0,0,'M'),\n",
       " Text(0,0,'Tu'),\n",
       " Text(0,0,'W'),\n",
       " Text(0,0,'Th'),\n",
       " Text(0,0,'F'),\n",
       " Text(0,0,'Sa')]"
      ]
     },
     "execution_count": 32,
     "metadata": {},
     "output_type": "execute_result"
    },
    {
     "data": {
      "image/png": "[encoded data removed]",
      "text/plain": [
       "<Figure size 1152x648 with 1 Axes>"
      ]
     },
     "metadata": {
      "needs_background": "light"
     },
     "output_type": "display_data"
    }
   ],
   "source": [
    "\n",
    "fig,axes = plt.subplots(figsize=(16,9))\n",
    "\n",
    "for it in day.values(): \n",
    "    x = new_data[new_data[:,1] == it]\n",
    "    g = axes.bar(it,np.sum(x[:,2],axis = 0),alpha = 0.8)\n",
    "   \n",
    "\n",
    "g[0].set_color('green')\n",
    "axes.text(x = 6-0.2,y=np.sum(x[:,2],axis = 0)+500,s=np.sum(x[:,2],axis = 0),fontsize=12)\n",
    "axes.set_xticks(list(day.values()))\n",
    "axes.set_xticklabels(day.keys())\n",
    "\n",
    "\n"
   ]
  },
  {
   "cell_type": "markdown",
   "metadata": {},
   "source": [
    "#### This shows the total sales on a particular day"
   ]
  },
  {
   "cell_type": "markdown",
   "metadata": {},
   "source": [
    "### Finding the most popular store"
   ]
  },
  {
   "cell_type": "code",
   "execution_count": 33,
   "metadata": {},
   "outputs": [
    {
     "data": {
      "text/plain": [
       "[Text(0,0,'EAST11'),\n",
       " Text(0,0,'EAST14'),\n",
       " Text(0,0,'EAST2'),\n",
       " Text(0,0,'EAST23'),\n",
       " Text(0,0,'EAST26'),\n",
       " Text(0,0,'EAST6'),\n",
       " Text(0,0,'WEST10'),\n",
       " Text(0,0,'WEST17'),\n",
       " Text(0,0,'WEST27'),\n",
       " Text(0,0,'WEST33'),\n",
       " Text(0,0,'WEST35'),\n",
       " Text(0,0,'WEST41'),\n",
       " Text(0,0,'WEST45'),\n",
       " Text(0,0,'WEST47')]"
      ]
     },
     "execution_count": 33,
     "metadata": {},
     "output_type": "execute_result"
    },
    {
     "data": {
      "image/png": "[encoded data removed]",
      "text/plain": [
       "<Figure size 1008x576 with 1 Axes>"
      ]
     },
     "metadata": {
      "needs_background": "light"
     },
     "output_type": "display_data"
    }
   ],
   "source": [
    "np.unique(new_data[:,0],axis=0)\n",
    "\n",
    "# For ease of calculation.. lets us modify store_dict dictionary.. instead of accessing keys from values\n",
    "store_dict_mod = {y:x for x,y in store_dict.items()}\n",
    "\n",
    "fig,axes = plt.subplots(figsize=(14,8))\n",
    "\n",
    "for i in store_dict_mod.keys():\n",
    "    x = new_data[new_data[:,0]==i]\n",
    "    axes.bar(i,np.sum(x[:,2],axis=0))\n",
    "\n",
    "\n",
    "axes.set_xticks(range(len(store_dict_mod.keys())))\n",
    "axes.set_xticklabels(store_dict_mod.values())"
   ]
  },
  {
   "cell_type": "markdown",
   "metadata": {},
   "source": [
    "### Here it is evident that EAST11 is the popular store in the city"
   ]
  },
  {
   "cell_type": "code",
   "execution_count": 34,
   "metadata": {},
   "outputs": [],
   "source": [
    "#Calculate each store on each day"
   ]
  },
  {
   "cell_type": "code",
   "execution_count": null,
   "metadata": {},
   "outputs": [
    {
     "name": "stdout",
     "output_type": "stream",
     "text": [
      "[<matplotlib.axes._subplots.AxesSubplot object at 0x0BCA4830>\n",
      " <matplotlib.axes._subplots.AxesSubplot object at 0x0B3CA170>\n",
      " <matplotlib.axes._subplots.AxesSubplot object at 0x0B4419F0> ...\n",
      " <matplotlib.axes._subplots.AxesSubplot object at 0x0BEA6CF0>\n",
      " <matplotlib.axes._subplots.AxesSubplot object at 0x0B331E50>\n",
      " <matplotlib.axes._subplots.AxesSubplot object at 0x0B326FB0>]\n"
     ]
    }
   ],
   "source": [
    "fig,axes = plt.subplots(4,4,figsize=(16,9))\n",
    "\n",
    "print(axes.flatten())\n",
    "\n",
    "for sto in store_dict_mod.keys():\n",
    "    #Filter store :\n",
    "        store_data = new_data[new_data[:,0]==sto] \n",
    "        for day_it in day.values():\n",
    "            #Filter day\n",
    "            daywise_data = store_data[store_data[:,1]==day_it]\n",
    "            axes.flatten()[sto].bar(day_it,np.sum(daywise_data[:,2],axis=0))\n",
    "            axes.flatten()[sto].set_xticks(range(len(day.keys())))\n",
    "            axes.flatten()[sto].set_yticks(range(0,5000,1000))\n",
    "            axes.flatten()[sto].set_xticklabels(day.keys())\n",
    "            axes.flatten()[sto].set_title(store_dict_mod[sto])\n",
    "\n",
    "\n",
    "fig.tight_layout()\n",
    "            \n",
    "            \n",
    "\n",
    "\n",
    "\n",
    "\n"
   ]
  },
  {
   "cell_type": "code",
   "execution_count": 36,
   "metadata": {
    "scrolled": true
   },
   "outputs": [
    {
     "name": "stdout",
     "output_type": "stream",
     "text": [
      "[<matplotlib.axes._subplots.AxesSubplot object at 0x0BCFE170>\n",
      " <matplotlib.axes._subplots.AxesSubplot object at 0x0BD1FAB0>\n",
      " <matplotlib.axes._subplots.AxesSubplot object at 0x0BD34C10> ...\n",
      " <matplotlib.axes._subplots.AxesSubplot object at 0x0BDAA1B0>\n",
      " <matplotlib.axes._subplots.AxesSubplot object at 0x0BDC62D0>\n",
      " <matplotlib.axes._subplots.AxesSubplot object at 0x0BDE0430>]\n"
     ]
    },
    {
     "data": {
      "image/png": "[encoded data removed]",
      "text/plain": [
       "<Figure size 1152x648 with 9 Axes>"
      ]
     },
     "metadata": {
      "needs_background": "light"
     },
     "output_type": "display_data"
    }
   ],
   "source": [
    "fig,axes = plt.subplots(3,3,figsize=(16,9))\n",
    "\n",
    "print(axes.flatten())\n",
    "\n",
    "for day_it in day.values():\n",
    "    #Filter store :\n",
    "        daywise_data = new_data[new_data[:,1]==day_it]\n",
    "        for sto in store_dict_mod.keys():\n",
    "            #Filter day\n",
    "            store_data = daywise_data[daywise_data[:,0]==sto]\n",
    "\n",
    "            axes.flatten()[day_it].bar(sto,np.sum(store_data[:,2],axis=0))\n",
    "            axes.flatten()[day_it].set_xticks(range(len(store_dict_mod.keys())))\n",
    "            axes.flatten()[day_it].set_yticks(range(0,5000,1000))\n",
    "            axes.flatten()[day_it].set_xticklabels(store_dict_mod.keys())\n",
    "            axes.flatten()[day_it].set_title(\"\".join([i for i,j in day.items() if j == day_it]))\n",
    "\n",
    "\n",
    "fig.tight_layout()"
   ]
  },
  {
   "cell_type": "code",
   "execution_count": null,
   "metadata": {},
   "outputs": [],
   "source": []
  }
 ],
 "metadata": {
  "kernelspec": {
   "display_name": "Python 3",
   "language": "python",
   "name": "python3"
  },
  "language_info": {
   "codemirror_mode": {
    "name": "ipython",
    "version": 3
   },
   "file_extension": ".py",
   "mimetype": "text/x-python",
   "name": "python",
   "nbconvert_exporter": "python",
   "pygments_lexer": "ipython3",
   "version": "3.6.5"
  }
 },
 "nbformat": 4,
 "nbformat_minor": 2
}
