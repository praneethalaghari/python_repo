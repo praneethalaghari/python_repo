{
 "cells": [
  {
   "cell_type": "code",
   "execution_count": 10,
   "metadata": {},
   "outputs": [
    {
     "name": "stdout",
     "output_type": "stream",
     "text": [
      "s is : Hello Praneeth Alaghari\n",
      "Id of s : 66547584\n",
      "x is : Praneeth Alaghari\n",
      "Id of x : 66547200\n"
     ]
    }
   ],
   "source": [
    "def say(s):\n",
    "    s = \"Hello \" + s\n",
    "    print(\"s is :\",s)\n",
    "    print(\"Id of s :\", id(s))\n",
    "x = \"Praneeth Alaghari\"\n",
    "say(x)\n",
    "print(\"x is :\",x)\n",
    "print(\"Id of x :\", id(x))\n",
    "\n",
    "# Since variables are references here.. they dont hold data.\n",
    "#so when x is assigned to s during function call.. an object \"Hello\" + s will be created in heap memory and assigns it to s but not to x\n",
    "# so now in this program \n",
    "    #x points to Praneeth Alaghari\n",
    "    #s points to Hello Praneeth Alaghari"
   ]
  },
  {
   "cell_type": "code",
   "execution_count": 15,
   "metadata": {},
   "outputs": [
    {
     "name": "stdout",
     "output_type": "stream",
     "text": [
      "None\n"
     ]
    }
   ],
   "source": [
    "dictionary = {'a':1,'b':2,'c':3}\n",
    "#print(dictionary['d'])               # This will give key error\n",
    "print(dictionary.get('d'))            # This will not throw any keyerror even though key is not there"
   ]
  },
  {
   "cell_type": "code",
   "execution_count": 21,
   "metadata": {},
   "outputs": [
    {
     "data": {
      "text/plain": [
       "([8, 2], [3, 4])"
      ]
     },
     "execution_count": 21,
     "metadata": {},
     "output_type": "execute_result"
    }
   ],
   "source": [
    "a = ([1,2],[3,4])\n",
    "#a.append(3)                           # Tuple object has no attribute append\n",
    "a[0][0] = 8\n",
    "a"
   ]
  },
  {
   "cell_type": "code",
   "execution_count": 34,
   "metadata": {},
   "outputs": [],
   "source": [
    "# Procedure to flattern\n",
    "\n",
    "import itertools\n",
    "a = [[1,2],[3,4],[5,6],[7,8]]\n",
    "b = list(itertools.chain.from_iterable(a)) # without list it is itertools chain object.\n"
   ]
  },
  {
   "cell_type": "code",
   "execution_count": 59,
   "metadata": {},
   "outputs": [
    {
     "name": "stdout",
     "output_type": "stream",
     "text": [
      "21\n",
      "21\n",
      "21\n"
     ]
    }
   ],
   "source": [
    "a = [[1,2],[3,4],[5,6]]\n",
    "\n",
    "\n",
    "# Using for loop \n",
    "# Note that int,list here are not strings\n",
    "\n",
    "sum_total = 0\n",
    "for x in a:\n",
    "    if type(x) == int:\n",
    "        sum_total = sum_total + x\n",
    "    elif type(x) == list:\n",
    "        sum_total = sum_total + sum(x)\n",
    "        \n",
    "print(sum_total)\n",
    "\n",
    "\n",
    "# using itertools modules\n",
    "# but make sure this will work only if all the elements in the list are lists i.e it should be pure list of lists\n",
    "\n",
    "import itertools\n",
    "b = sum(list(itertools.chain.from_iterable(a)))\n",
    "print(b)   \n",
    "\n",
    "# using list comprehension\n",
    "# but make sure this will work only if all the elements in the list are lists i.e it should be pure list of lists\n",
    "print(sum([y for x in a for y in x]))"
   ]
  },
  {
   "cell_type": "code",
   "execution_count": 62,
   "metadata": {},
   "outputs": [
    {
     "name": "stdout",
     "output_type": "stream",
     "text": [
      "hteenarp\n"
     ]
    }
   ],
   "source": [
    "name = ' praneeth '\n",
    "stripped_name = name.replace(' ','')\n",
    "print(stripped_name[::-1])"
   ]
  },
  {
   "cell_type": "code",
   "execution_count": 65,
   "metadata": {},
   "outputs": [
    {
     "name": "stdout",
     "output_type": "stream",
     "text": [
      "['bab', 'ababa']\n"
     ]
    }
   ],
   "source": [
    "# In a list of strings print only palindromes.\n",
    "\n",
    "str_list = ['praneeth','bab','ababa','abcde','anbt']\n",
    "print([x for x in str_list if x[::] == x[::-1]])"
   ]
  },
  {
   "cell_type": "code",
   "execution_count": 69,
   "metadata": {},
   "outputs": [
    {
     "name": "stdout",
     "output_type": "stream",
     "text": [
      "[1, 2, 3, 4, 5, 6, 7, 8, 9, 10, 11, 12]\n"
     ]
    }
   ],
   "source": [
    "#flatten a list in one statement\n",
    "\n",
    "arr = [[1,2],[3,4],[5,6],[7,8],[9,10,11],[12]]\n",
    "\n",
    "import itertools\n",
    "flatten_list = list(itertools.chain.from_iterable(arr))\n",
    "print(flatten_list)"
   ]
  },
  {
   "cell_type": "code",
   "execution_count": 82,
   "metadata": {},
   "outputs": [
    {
     "name": "stdout",
     "output_type": "stream",
     "text": [
      "Start\n",
      "Foo execution\n",
      "End\n"
     ]
    }
   ],
   "source": [
    "def decorator(foo):\n",
    "    def inner():\n",
    "        print(\"Start\")\n",
    "        foo()\n",
    "        print(\"End\")\n",
    "    return inner\n",
    "\n",
    "@decorator                    #1\n",
    "def foo():\n",
    "    print(\"Foo execution\")\n",
    "    \n",
    "foo()                         #1\n",
    "    \n",
    "#dec_foo = decorator(foo)     #2\n",
    "#dec_foo()                    #2"
   ]
  },
  {
   "cell_type": "code",
   "execution_count": 7,
   "metadata": {},
   "outputs": [
    {
     "name": "stdout",
     "output_type": "stream",
     "text": [
      "[(1, 2), (3, 4), (5, 6)]\n"
     ]
    }
   ],
   "source": [
    "a = [1,2,3,4,5,6]\n",
    "\n",
    "i = 0\n",
    "j = 1\n",
    "\n",
    "lis = []\n",
    "while j < len(a):\n",
    "    lis.append((a[i],a[j]))\n",
    "    i+=2\n",
    "    j+=2\n",
    "print(lis)"
   ]
  },
  {
   "cell_type": "code",
   "execution_count": 11,
   "metadata": {},
   "outputs": [
    {
     "name": "stdout",
     "output_type": "stream",
     "text": [
      "[('a', 3), ('b', 2), ('e', 2), ('c', 1), ('d', 1), ('f', 1)]\n",
      "[('f', 1), ('d', 1), ('c', 1), ('e', 2), ('b', 2), ('a', 3)]\n"
     ]
    }
   ],
   "source": [
    "a = ['a','b','b','a','a','c','d','e','e','f']\n",
    "import collections\n",
    "\n",
    "arr = collections.Counter(a)\n",
    "arr_sorted = arr.most_common(len(set(a)))\n",
    "print(arr_sorted)                                    # Descending Order\n",
    "print(arr_sorted[::-1])                              # Ascending Order"
   ]
  },
  {
   "cell_type": "code",
   "execution_count": 54,
   "metadata": {},
   "outputs": [
    {
     "name": "stdout",
     "output_type": "stream",
     "text": [
      "Praneeth-25-Bank of America\n",
      "True\n",
      "2\n"
     ]
    }
   ],
   "source": [
    "class Employee:\n",
    "    '''le,ge,gt,lt,invert,eq,add,sub,mul,truediv,floordiv,mod,lshift,rshift'''\n",
    "    def __init__(self):\n",
    "        self.employee_name = \"Praneeth\"\n",
    "        self.age           = 25\n",
    "        self.company_name  = \"Bank of America\"\n",
    "    def __str__(self):\n",
    "        return self.employee_name + \"-\" + str(self.age) + \"-\" + str(self.company_name)\n",
    "\n",
    "    \n",
    "    def __eq__(self,emp):\n",
    "        if self.age == emp.age:\n",
    "            print('True')\n",
    "    \n",
    "if __name__ == '__main__':\n",
    "    emp1 = Employee()\n",
    "    print(emp1)\n",
    "    emp2 = Employee()\n",
    "    emp1 == emp2\n",
    "    import sys\n",
    "    print(sys.getrefcount(emp1))"
   ]
  },
  {
   "cell_type": "code",
   "execution_count": 130,
   "metadata": {},
   "outputs": [
    {
     "data": {
      "text/plain": [
       "0"
      ]
     },
     "execution_count": 130,
     "metadata": {},
     "output_type": "execute_result"
    }
   ],
   "source": [
    "#To forcedly garbage collect an item (without reference counter algorithm) \n",
    "import gc\n",
    "gc.collect()"
   ]
  },
  {
   "cell_type": "code",
   "execution_count": 174,
   "metadata": {},
   "outputs": [
    {
     "name": "stdout",
     "output_type": "stream",
     "text": [
      "3\n",
      "5\n",
      "7\n",
      "11\n",
      "13\n"
     ]
    }
   ],
   "source": [
    "#Infinite prime number generator - using generator concept\n",
    "\n",
    "n = 2\n",
    "def prime_number_generator():\n",
    "    global n\n",
    "    \n",
    "    while True:\n",
    "        n+=1\n",
    "        i = 2\n",
    "        while i < n:\n",
    "            if n%i == 0:\n",
    "                break\n",
    "            i+=1\n",
    "        else:\n",
    "            yield n\n",
    "\n",
    "print(prime_number_generator().__next__())\n",
    "print(prime_number_generator().__next__())\n",
    "print(prime_number_generator().__next__())\n",
    "print(prime_number_generator().__next__())\n",
    "print(prime_number_generator().__next__())\n",
    "    "
   ]
  },
  {
   "cell_type": "code",
   "execution_count": 175,
   "metadata": {},
   "outputs": [
    {
     "name": "stdout",
     "output_type": "stream",
     "text": [
      "1\n",
      "2\n"
     ]
    }
   ],
   "source": [
    "p =0\n",
    "def gene():\n",
    "    global p\n",
    "    p +=1\n",
    "    while True:\n",
    "        yield p\n",
    "print(gene().__next__())\n",
    "print(gene().__next__())"
   ]
  },
  {
   "cell_type": "code",
   "execution_count": 214,
   "metadata": {},
   "outputs": [
    {
     "name": "stdout",
     "output_type": "stream",
     "text": [
      "RE output : Yes\n",
      "Yes\n"
     ]
    }
   ],
   "source": [
    "# Hex code validity checker :\n",
    "\n",
    "def is_valid(s):\n",
    "    if not s.startswith('#'):\n",
    "        return 'No'\n",
    "    for p in s:\n",
    "        if p not in ['A','B','C','D','E','F','1','2','3','4','5','6','7','8','9','0','#']:\n",
    "            return 'No'\n",
    "    return 'Yes'\n",
    "\n",
    "\n",
    "# Using re \n",
    "import re\n",
    "match = re.search(r'^#(?:[0-9a-fA-F]{3}){1,2}$',s)\n",
    "if match:\n",
    "    print(\"RE output :\",'Yes')\n",
    "else:\n",
    "    print(\"RE output :\",'No')\n",
    "\n",
    "s = '#2EC443'\n",
    "res = is_valid(s)\n",
    "print(res)"
   ]
  },
  {
   "cell_type": "code",
   "execution_count": 215,
   "metadata": {},
   "outputs": [],
   "source": [
    "#Tool to convert from python 2 to python 3 :\n",
    "#import 2to3\n",
    "# Eg : 2to3 example.py"
   ]
  },
  {
   "cell_type": "code",
   "execution_count": null,
   "metadata": {},
   "outputs": [],
   "source": []
  }
 ],
 "metadata": {
  "kernelspec": {
   "display_name": "Python 3",
   "language": "python",
   "name": "python3"
  },
  "language_info": {
   "codemirror_mode": {
    "name": "ipython",
    "version": 3
   },
   "file_extension": ".py",
   "mimetype": "text/x-python",
   "name": "python",
   "nbconvert_exporter": "python",
   "pygments_lexer": "ipython3",
   "version": "3.6.5"
  }
 },
 "nbformat": 4,
 "nbformat_minor": 2
}
