{
 "cells": [
  {
   "cell_type": "markdown",
   "metadata": {},
   "source": [
    "### Question :\n",
    "\n",
    "Given a log which contains strings of user activities seperated by comma\n",
    "Eg : 1 2 34,3 4 44,5 6 78\n",
    "\n",
    "1st element is sender_user,2nd element is recipient_user,3rd element is transaction amount\n",
    "\n",
    "So given number of log activities,log activities and threshold\n",
    "\n",
    "List the users(could be both as a recipient_user and a sender) who got logged in the log provided in sorting order\n",
    "Condtion : one condtion is that if both sender,recipient are same then count as one transaction by user\n",
    "\n",
    "Eg : \n",
    "\n",
    "##### Input :\n",
    "\n",
    "4  (number of log activities)\n",
    "\n",
    "1 2 34,3 4 44,5 6 78,1 1 24,4 5 96 (log)\n",
    "\n",
    "2 (threshold)\n",
    "\n",
    "##### output : \n",
    "\n",
    "1\n",
    "3\n",
    "4\n",
    "5\n"
   ]
  },
  {
   "cell_type": "code",
   "execution_count": 1,
   "metadata": {},
   "outputs": [
    {
     "name": "stdout",
     "output_type": "stream",
     "text": [
      "Enter the number of transactions in log :4\n",
      "Enter the log activity1 2 34,3 4 44,5 6 78,1 1 24,4 5 96\n",
      "Enter the threshold value2\n",
      "['1 2 34', '3 4 44', '5 6 78', '1 1 24', '4 5 96']\n",
      "2\n"
     ]
    },
    {
     "ename": "NameError",
     "evalue": "name 'user_list' is not defined",
     "output_type": "error",
     "traceback": [
      "\u001b[1;31m---------------------------------------------------------------------------\u001b[0m",
      "\u001b[1;31mNameError\u001b[0m                                 Traceback (most recent call last)",
      "\u001b[1;32m<ipython-input-1-8e18ddb79e7e>\u001b[0m in \u001b[0;36m<module>\u001b[1;34m()\u001b[0m\n\u001b[0;32m     11\u001b[0m     \u001b[0musers_list\u001b[0m \u001b[1;33m=\u001b[0m \u001b[0mdetect_users\u001b[0m\u001b[1;33m(\u001b[0m\u001b[0mlog_activity_list\u001b[0m\u001b[1;33m,\u001b[0m\u001b[0mt\u001b[0m\u001b[1;33m)\u001b[0m\u001b[1;33m\u001b[0m\u001b[0m\n\u001b[0;32m     12\u001b[0m \u001b[1;33m\u001b[0m\u001b[0m\n\u001b[1;32m---> 13\u001b[1;33m     \u001b[0mprint\u001b[0m\u001b[1;33m(\u001b[0m\u001b[1;34m'\\n'\u001b[0m\u001b[1;33m.\u001b[0m\u001b[0mjoin\u001b[0m\u001b[1;33m(\u001b[0m\u001b[0muser_list\u001b[0m\u001b[1;33m)\u001b[0m\u001b[1;33m)\u001b[0m\u001b[1;33m\u001b[0m\u001b[0m\n\u001b[0m",
      "\u001b[1;31mNameError\u001b[0m: name 'user_list' is not defined"
     ]
    }
   ],
   "source": [
    "def detect_users(log,t):\n",
    "    print(log,t,sep = '\\n')\n",
    "    return None\n",
    "\n",
    "if __name__ == '__main__':\n",
    "    k = int(input(\"Enter the number of transactions in log :\"))\n",
    "    log = input(\"Enter the log activity\")\n",
    "    t = int(input(\"Enter the threshold value\"))\n",
    "    \n",
    "    log_activity_list = log.split(',')\n",
    "    users_list = detect_users(log_activity_list,t)\n",
    "    \n",
    "    print('\\n'.join(users_list))"
   ]
  },
  {
   "cell_type": "code",
   "execution_count": null,
   "metadata": {},
   "outputs": [],
   "source": []
  }
 ],
 "metadata": {
  "kernelspec": {
   "display_name": "Python 3",
   "language": "python",
   "name": "python3"
  },
  "language_info": {
   "codemirror_mode": {
    "name": "ipython",
    "version": 3
   },
   "file_extension": ".py",
   "mimetype": "text/x-python",
   "name": "python",
   "nbconvert_exporter": "python",
   "pygments_lexer": "ipython3",
   "version": "3.6.5"
  }
 },
 "nbformat": 4,
 "nbformat_minor": 2
}
