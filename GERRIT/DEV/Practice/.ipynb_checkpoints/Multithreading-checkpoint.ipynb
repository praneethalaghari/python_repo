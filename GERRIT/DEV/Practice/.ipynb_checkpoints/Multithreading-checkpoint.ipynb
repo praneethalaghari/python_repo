{
 "cells": [
  {
   "cell_type": "code",
   "execution_count": 128,
   "metadata": {},
   "outputs": [],
   "source": [
    "from threading import Thread\n",
    "import math\n",
    "import time\n",
    "import platform"
   ]
  },
  {
   "cell_type": "code",
   "execution_count": 129,
   "metadata": {},
   "outputs": [],
   "source": [
    "def squares(arr):\n",
    "    print(\"Squares called\",end = \"\\n\")\n",
    "    for elem in arr:\n",
    "        time.sleep(1)\n",
    "        print (math.pow(elem,2))\n",
    "    "
   ]
  },
  {
   "cell_type": "code",
   "execution_count": 130,
   "metadata": {},
   "outputs": [],
   "source": [
    "def cubes(arr):\n",
    "    print(\"Cubes called\",end = '\\n')\n",
    "    for elem in arr:\n",
    "        time.sleep(1)\n",
    "        print(math.pow(elem,3))\n",
    "    "
   ]
  },
  {
   "cell_type": "code",
   "execution_count": 131,
   "metadata": {},
   "outputs": [
    {
     "name": "stdout",
     "output_type": "stream",
     "text": [
      "Squares calledCubes called\n",
      "\n",
      "1.01.0\n",
      "\n",
      "4.08.0\n",
      "\n",
      "27.09.0\n",
      "\n",
      "16.0\n",
      "64.0\n",
      "25.0\n",
      "125.0\n"
     ]
    }
   ],
   "source": [
    "if __name__ == '__main__':\n",
    "    arr = [1,2,3,4,5]\n",
    "    t1 = Thread(target = squares,args = (arr,))\n",
    "    t2 = Thread(target = cubes,args = (arr,))\n",
    "    t1.start()\n",
    "    t2.start()\n",
    "    t1.join()\n",
    "    t2.join()\n",
    "    "
   ]
  },
  {
   "cell_type": "code",
   "execution_count": 132,
   "metadata": {},
   "outputs": [
    {
     "name": "stdout",
     "output_type": "stream",
     "text": [
      "4\n"
     ]
    }
   ],
   "source": [
    "import os\n",
    "print(os.cpu_count())"
   ]
  },
  {
   "cell_type": "code",
   "execution_count": null,
   "metadata": {},
   "outputs": [],
   "source": []
  }
 ],
 "metadata": {
  "kernelspec": {
   "display_name": "Python 3",
   "language": "python",
   "name": "python3"
  },
  "language_info": {
   "codemirror_mode": {
    "name": "ipython",
    "version": 3
   },
   "file_extension": ".py",
   "mimetype": "text/x-python",
   "name": "python",
   "nbconvert_exporter": "python",
   "pygments_lexer": "ipython3",
   "version": "3.6.5"
  }
 },
 "nbformat": 4,
 "nbformat_minor": 2
}
