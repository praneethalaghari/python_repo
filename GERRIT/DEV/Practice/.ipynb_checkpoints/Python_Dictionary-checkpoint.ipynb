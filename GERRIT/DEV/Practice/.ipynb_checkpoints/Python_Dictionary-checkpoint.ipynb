{
 "cells": [
  {
   "cell_type": "code",
   "execution_count": 7,
   "metadata": {},
   "outputs": [],
   "source": [
    "#How to create/initialize an empty dictionary :\n",
    "\n",
    "dict1 = dict()\n",
    "dict2 = {}"
   ]
  },
  {
   "cell_type": "code",
   "execution_count": 44,
   "metadata": {},
   "outputs": [
    {
     "data": {
      "text/plain": [
       "{'a': 3, 'b': 2}"
      ]
     },
     "execution_count": 44,
     "metadata": {},
     "output_type": "execute_result"
    }
   ],
   "source": [
    "# How to populate dictionary :\n",
    "\n",
    "#Method 1\n",
    "\n",
    "dict1['a'] = 'a'\n",
    "dict1[1] = 1\n",
    "dict1[(1,2)] = '(1,2)'\n",
    "dict1[True] = 'True'          #1,True,1.0 all are same in python so dict[True] == dict[1] but values will be overwritten \n",
    "dict1[1.0] = \"1.0\"\n",
    "#dict1[[1,2]] = '[1,2]'       #\n",
    "#dict1[{1,2}] = '{1,2}'       #Fails Dictionary key cannot be {}\n",
    "#dict1[{1:2,3:4}] = {1:2,3:4} #Dict is also unhashable.Hence fails as a key\n",
    "\n",
    "\n",
    "#Method2\n",
    "dict2 = dict(a=3,b=2)   \n",
    "dict2\n",
    "\n",
    "#Method3\n",
    "dict3 = {x:y for x,y in []}\n",
    "\n"
   ]
  },
  {
   "cell_type": "code",
   "execution_count": 9,
   "metadata": {},
   "outputs": [],
   "source": [
    "#How to extract keys"
   ]
  },
  {
   "cell_type": "code",
   "execution_count": 10,
   "metadata": {},
   "outputs": [],
   "source": [
    "#How to extract values"
   ]
  },
  {
   "cell_type": "code",
   "execution_count": 11,
   "metadata": {},
   "outputs": [],
   "source": [
    "#How to iterate dictionary"
   ]
  },
  {
   "cell_type": "code",
   "execution_count": null,
   "metadata": {},
   "outputs": [],
   "source": [
    "#Methods of dict class"
   ]
  },
  {
   "cell_type": "code",
   "execution_count": 5,
   "metadata": {},
   "outputs": [
    {
     "data": {
      "text/plain": [
       "{1.0: 'de'}"
      ]
     },
     "execution_count": 5,
     "metadata": {},
     "output_type": "execute_result"
    }
   ],
   "source": [
    "dictionary = {1.0:'fgh',True:'abc',1:'de'}\n",
    "dictionary"
   ]
  }
 ],
 "metadata": {
  "kernelspec": {
   "display_name": "Python 3",
   "language": "python",
   "name": "python3"
  },
  "language_info": {
   "codemirror_mode": {
    "name": "ipython",
    "version": 3
   },
   "file_extension": ".py",
   "mimetype": "text/x-python",
   "name": "python",
   "nbconvert_exporter": "python",
   "pygments_lexer": "ipython3",
   "version": "3.6.5"
  }
 },
 "nbformat": 4,
 "nbformat_minor": 2
}
