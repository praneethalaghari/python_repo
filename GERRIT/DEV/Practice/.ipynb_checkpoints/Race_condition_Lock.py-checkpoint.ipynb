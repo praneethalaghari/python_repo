{
 "cells": [
  {
   "cell_type": "markdown",
   "metadata": {},
   "source": [
    "## Without Threading"
   ]
  },
  {
   "cell_type": "code",
   "execution_count": 1,
   "metadata": {},
   "outputs": [
    {
     "name": "stdout",
     "output_type": "stream",
     "text": [
      "200000000 47.279022455215454\n"
     ]
    }
   ],
   "source": [
    "import time\n",
    "\n",
    "x = 0\n",
    "\n",
    "def increment():\n",
    "    global x\n",
    "    for _ in range(100000000):\n",
    "        x = x + 1\n",
    "        \n",
    "if __name__ == '__main__':\n",
    "    \n",
    "    start_time= time.time()\n",
    "    \n",
    "    increment()\n",
    "    increment()\n",
    "    \n",
    "    end_time = time.time()\n",
    "    \n",
    "    total_exec_time = end_time - start_time\n",
    "    \n",
    "    print(x,total_exec_time)"
   ]
  },
  {
   "cell_type": "markdown",
   "metadata": {},
   "source": [
    "## With Threading no lock"
   ]
  },
  {
   "cell_type": "code",
   "execution_count": 2,
   "metadata": {},
   "outputs": [
    {
     "name": "stdout",
     "output_type": "stream",
     "text": [
      "117205142 48.02147173881531\n"
     ]
    }
   ],
   "source": [
    "import threading\n",
    "import time\n",
    "from threading import Thread\n",
    "\n",
    "x = 0\n",
    "\n",
    "def increment():\n",
    "    global x\n",
    "    for _ in range(100000000):\n",
    "        x = x+1\n",
    "    \n",
    "\n",
    "if __name__ == '__main__':\n",
    "    \n",
    "    start_time = time.time()\n",
    "    \n",
    "    t1 = Thread(target = increment)\n",
    "    t2 = Thread(target = increment)\n",
    "    \n",
    "    t1.start()\n",
    "    t2.start()\n",
    "    \n",
    "    t1.join()\n",
    "    t2.join()\n",
    "    \n",
    "    end_time = time.time()\n",
    "    \n",
    "    total_exec_time = end_time - start_time\n",
    "    \n",
    "    print(x,total_exec_time)\n",
    "    "
   ]
  },
  {
   "cell_type": "markdown",
   "metadata": {},
   "source": [
    "## With Threading with Lock()"
   ]
  },
  {
   "cell_type": "code",
   "execution_count": 3,
   "metadata": {},
   "outputs": [
    {
     "name": "stdout",
     "output_type": "stream",
     "text": [
      "200000000 76.43973922729492\n"
     ]
    }
   ],
   "source": [
    "import threading\n",
    "import time\n",
    "from threading import Thread\n",
    "tlock = threading.Lock()\n",
    "\n",
    "x = 0\n",
    "\n",
    "def increment():\n",
    "    global x\n",
    "    tlock.acquire()\n",
    "    for _ in range(100000000):\n",
    "        x = x+1\n",
    "    tlock.release()\n",
    "    \n",
    "\n",
    "if __name__ == '__main__':\n",
    "    \n",
    "    start_time = time.time()\n",
    "    \n",
    "    t1 = Thread(target = increment)\n",
    "    t2 = Thread(target = increment)\n",
    "    \n",
    "    t1.start()\n",
    "    t2.start()\n",
    "    \n",
    "    t1.join()\n",
    "    t2.join()\n",
    "    \n",
    "    end_time = time.time()\n",
    "    \n",
    "    total_exec_time = end_time - start_time\n",
    "    \n",
    "    print(x,total_exec_time)\n",
    "    "
   ]
  },
  {
   "cell_type": "code",
   "execution_count": null,
   "metadata": {},
   "outputs": [],
   "source": []
  }
 ],
 "metadata": {
  "kernelspec": {
   "display_name": "Python 3",
   "language": "python",
   "name": "python3"
  },
  "language_info": {
   "codemirror_mode": {
    "name": "ipython",
    "version": 3
   },
   "file_extension": ".py",
   "mimetype": "text/x-python",
   "name": "python",
   "nbconvert_exporter": "python",
   "pygments_lexer": "ipython3",
   "version": "3.6.5"
  }
 },
 "nbformat": 4,
 "nbformat_minor": 2
}
