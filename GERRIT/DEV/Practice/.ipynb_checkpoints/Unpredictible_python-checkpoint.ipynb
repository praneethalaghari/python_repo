{
 "cells": [
  {
   "cell_type": "code",
   "execution_count": 1,
   "metadata": {},
   "outputs": [
    {
     "data": {
      "text/plain": [
       "{True: 3}"
      ]
     },
     "execution_count": 1,
     "metadata": {},
     "output_type": "execute_result"
    }
   ],
   "source": [
    "dict1 = {True:1,1:2,1.0:3}\n",
    "dict1"
   ]
  },
  {
   "cell_type": "code",
   "execution_count": 3,
   "metadata": {},
   "outputs": [
    {
     "data": {
      "text/plain": [
       "200"
      ]
     },
     "execution_count": 3,
     "metadata": {},
     "output_type": "execute_result"
    }
   ],
   "source": [
    "import sys\n",
    "sys.getsizeof(dict)"
   ]
  },
  {
   "cell_type": "code",
   "execution_count": 4,
   "metadata": {},
   "outputs": [
    {
     "name": "stdout",
     "output_type": "stream",
     "text": [
      "None\n",
      "None\n",
      "<method-wrapper '__hash__' of int object at 0x58BAE340>\n",
      "4\n",
      "4\n"
     ]
    }
   ],
   "source": [
    "a = {}\n",
    "print(a.__hash__)\n",
    "#print(a.__hash__())\n",
    "#print(hash(a))\n",
    "\n",
    "b = [3]\n",
    "print(b.__hash__)\n",
    "#print(b.__hash__())\n",
    "#print(hash(b))\n",
    "\n",
    "c = (4)\n",
    "print(c.__hash__)\n",
    "print(c.__hash__())\n",
    "print(hash(c))"
   ]
  },
  {
   "cell_type": "code",
   "execution_count": 5,
   "metadata": {},
   "outputs": [
    {
     "data": {
      "text/plain": [
       "True"
      ]
     },
     "execution_count": 5,
     "metadata": {},
     "output_type": "execute_result"
    }
   ],
   "source": [
    "True == 1 == 1.0"
   ]
  },
  {
   "cell_type": "code",
   "execution_count": 6,
   "metadata": {},
   "outputs": [
    {
     "data": {
      "text/plain": [
       "1"
      ]
     },
     "execution_count": 6,
     "metadata": {},
     "output_type": "execute_result"
    }
   ],
   "source": [
    "139 & 101"
   ]
  },
  {
   "cell_type": "code",
   "execution_count": 7,
   "metadata": {},
   "outputs": [
    {
     "name": "stdout",
     "output_type": "stream",
     "text": [
      " Hel'lo \n"
     ]
    }
   ],
   "source": [
    "print(''' ''' \"Hel'lo\" ''' ''')\n",
    "#print(\"\"Hello\"\")"
   ]
  },
  {
   "cell_type": "code",
   "execution_count": 8,
   "metadata": {},
   "outputs": [
    {
     "data": {
      "text/plain": [
       "False"
      ]
     },
     "execution_count": 8,
     "metadata": {},
     "output_type": "execute_result"
    }
   ],
   "source": [
    "a = 3\n",
    "b = a\n",
    "id(a),id(b)\n",
    "\n",
    "c = [2,3]\n",
    "d = c\n",
    "id(c),id(d)\n",
    "\n",
    "#Making modifications below\n",
    "\n",
    "c[1] = 4\n",
    "id(c),id(d)\n",
    "\n",
    "c.append(3)\n",
    "id(c),id(d)\n",
    "c is d                  # Evaluates to True\n",
    "\n",
    "#changing whole object below\n",
    "c = [3,3]\n",
    "id(c),id(d)\n",
    "c is d                  #Evaluates to False\n",
    "\n",
    "#because Mutable objects can change their value but keep their id()\n"
   ]
  },
  {
   "cell_type": "code",
   "execution_count": 9,
   "metadata": {},
   "outputs": [
    {
     "data": {
      "text/plain": [
       "'\\nc = [3,3]\\nid(c),id(d)\\nc is d\\n'"
      ]
     },
     "execution_count": 9,
     "metadata": {},
     "output_type": "execute_result"
    }
   ],
   "source": [
    "'''\n",
    "c = [3,3]\n",
    "id(c),id(d)\n",
    "c is d\n",
    "'''"
   ]
  },
  {
   "cell_type": "code",
   "execution_count": 10,
   "metadata": {},
   "outputs": [
    {
     "name": "stdout",
     "output_type": "stream",
     "text": [
      "True\n",
      "False\n"
     ]
    }
   ],
   "source": [
    "print(1 == 1.0)  # Compare values\n",
    "print(1 is 1.0)  # Compare adress"
   ]
  },
  {
   "cell_type": "code",
   "execution_count": 11,
   "metadata": {},
   "outputs": [
    {
     "name": "stdout",
     "output_type": "stream",
     "text": [
      "Size of empty dict :  136\n",
      "Size of dict with 5 pairs:  136\n",
      "Size of dict with 6 pairs:  204\n",
      "Size of dict with 10 pairs:  204\n",
      "Size of dict with 11 pairs:  352\n",
      "Size of dict with 1 pairs with large value:  136\n"
     ]
    }
   ],
   "source": [
    "import sys\n",
    "dict1 = {}\n",
    "print(\"Size of empty dict : \", sys.getsizeof(dict1))\n",
    "\n",
    "dict2 = {1:1,2:2,3:3,4:4,5:5}\n",
    "print(\"Size of dict with 5 pairs: \", sys.getsizeof(dict2))\n",
    "\n",
    "dict3 = {1:1,2:2,3:3,4:4,5:5,6:6}\n",
    "print(\"Size of dict with 6 pairs: \", sys.getsizeof(dict3))\n",
    "\n",
    "dict4 = {1:1,2:2,3:3,4:4,5:5,6:6,7:7,8:8,9:9,10:10}\n",
    "print(\"Size of dict with 10 pairs: \", sys.getsizeof(dict4))\n",
    "\n",
    "dict5 = {1:1,2:2,3:3,4:4,5:5,6:6,7:7,8:8,9:9,10:10,11:11}\n",
    "print(\"Size of dict with 11 pairs: \", sys.getsizeof(dict5))\n",
    "\n",
    "dict6 = {1:'a'*10000}\n",
    "print(\"Size of dict with 1 pairs with large value: \", sys.getsizeof(dict6))\n"
   ]
  },
  {
   "cell_type": "code",
   "execution_count": 12,
   "metadata": {},
   "outputs": [
    {
     "name": "stdout",
     "output_type": "stream",
     "text": [
      "For  0 elements - size :  136\n",
      "For  1 elements - size :  136\n",
      "For  2 elements - size :  136\n",
      "For  3 elements - size :  136\n",
      "For  4 elements - size :  136\n",
      "For  5 elements - size :  204\n",
      "For  6 elements - size :  204\n",
      "For  7 elements - size :  204\n",
      "For  8 elements - size :  204\n",
      "For  9 elements - size :  204\n",
      "For  10 elements - size :  352\n",
      "For  11 elements - size :  352\n",
      "For  12 elements - size :  352\n",
      "For  13 elements - size :  352\n",
      "For  14 elements - size :  352\n",
      "Size of dict after popping :  352\n",
      "Size of dict after clearing :  48\n",
      "Size of dict after assigning atleast one element to cleared dict :  136\n",
      "48\n"
     ]
    }
   ],
   "source": [
    "import sys\n",
    "test_dict = {}\n",
    "\n",
    "for i in range(15):\n",
    "    test_dict[i] = i\n",
    "    print(\"For \",i,\"elements - size : \", sys.getsizeof(test_dict))\n",
    "\n",
    "#Allocation takes place in blocks i.e from 0-4,5-9 etc.. so allocation overhead is less\n",
    "    \n",
    "for i in range(15):\n",
    "    test_dict.pop(test_dict[i])\n",
    "\n",
    "len(test_dict)\n",
    "#Dellocation of all the elements\n",
    "    \n",
    "    \n",
    "print(\"Size of dict after popping : \",sys.getsizeof(test_dict)) # But here the size of test_dict is still left, even though all elements are popped.\n",
    "test_dict.clear()\n",
    "print(\"Size of dict after clearing : \",sys.getsizeof(test_dict)) # But here the size of test_dict is still left, even though all elements are popped.\n",
    "\n",
    "test_dict['c'] = 3\n",
    "print(\"Size of dict after assigning atleast one element to cleared dict : \",sys.getsizeof(test_dict)) # But here the size of test_dict is still left, even though all elements are popped.\n",
    "\n",
    "abc = {}\n",
    "abc.clear()\n",
    "print(sys.getsizeof(abc))"
   ]
  },
  {
   "cell_type": "markdown",
   "metadata": {},
   "source": [
    "#### It is always best to clear the dictionary i.e dict.clear() instead of pop() every item\n",
    "\n",
    "#### After creating a dictionary its size is 136.but if we clear the dict immediately its size is 48 till a first elem is added."
   ]
  },
  {
   "cell_type": "code",
   "execution_count": 13,
   "metadata": {},
   "outputs": [
    {
     "name": "stdout",
     "output_type": "stream",
     "text": [
      "200\n",
      "12\n",
      "16\n",
      "12\n",
      "36\n",
      "116\n",
      "200\n",
      "28\n"
     ]
    }
   ],
   "source": [
    "import sys\n",
    "a = '1.5'\n",
    "id(a)\n",
    "\n",
    "b = [1,2,3]\n",
    "id(b[0]),id(b[1]),id(b[2])\n",
    "print(sys.getsizeof(int))    # Since every thing is class - object in python. here we are getting size of 'int' class\n",
    "print(sys.getsizeof(int()))  # Here we are getting size of int\n",
    "print(sys.getsizeof(float()))  \n",
    "print(sys.getsizeof(bool()))  \n",
    "print(sys.getsizeof(list()))  \n",
    "print(sys.getsizeof(set()))  \n",
    "print(sys.getsizeof(dict))  \n",
    "print(sys.getsizeof(tuple()))  "
   ]
  },
  {
   "cell_type": "code",
   "execution_count": 64,
   "metadata": {},
   "outputs": [
    {
     "data": {
      "text/plain": [
       "(700, 10, 10)"
      ]
     },
     "execution_count": 64,
     "metadata": {},
     "output_type": "execute_result"
    }
   ],
   "source": [
    "# Enable/Disable Automatic Garbage Collection\n",
    "\n",
    "import gc\n",
    "#gc.disable()\n",
    "if not gc.isenabled():\n",
    "    gc.enable()\n",
    "gc.isenabled()\n",
    "\n",
    "gc.get_threshold()"
   ]
  },
  {
   "cell_type": "code",
   "execution_count": 69,
   "metadata": {},
   "outputs": [
    {
     "name": "stdout",
     "output_type": "stream",
     "text": [
      "508\n"
     ]
    },
    {
     "data": {
      "text/plain": [
       "[]"
      ]
     },
     "execution_count": 69,
     "metadata": {},
     "output_type": "execute_result"
    }
   ],
   "source": [
    "a = 3\n",
    "print(sys.getrefcount(a))\n",
    "gc.get_referents()"
   ]
  },
  {
   "cell_type": "code",
   "execution_count": 2,
   "metadata": {},
   "outputs": [
    {
     "name": "stdout",
     "output_type": "stream",
     "text": [
      "423\n",
      "453\n",
      "{'a': 4, '_b': 5, '_abc__c': 3, '__c': 6}\n",
      "3\n",
      "456\n"
     ]
    }
   ],
   "source": [
    "class abc:\n",
    "    def __init__(self,a,b,c):\n",
    "        self.a = a\n",
    "        self._b = b\n",
    "        self.__c = c\n",
    "    def __str__(self):\n",
    "        return str(self.a) + str(self._b) + str(self.__c)\n",
    "a = abc(1,2,3)\n",
    "\n",
    "a.a = 4\n",
    "print(a)\n",
    "\n",
    "a._b = 5\n",
    "print(a)\n",
    "\n",
    "a.__c = 6      # This will work but it will create a new variable __c in the objects dictionary\n",
    "#print(__c)    # This will give error as __c is not defined\n",
    "\n",
    "print(a.__dict__)\n",
    "\n",
    "#import sys\n",
    "#print(sys.getsizeof(a.__dict__))\n",
    "\n",
    "\n",
    "# But by looking inside the dictionary if we get the name of the mangled private object then we can access like any other object as below\n",
    "\n",
    "print(a._abc__c)\n",
    "a._abc__c = 6\n",
    "\n",
    "\n",
    "print(a)"
   ]
  },
  {
   "cell_type": "code",
   "execution_count": null,
   "metadata": {},
   "outputs": [],
   "source": []
  }
 ],
 "metadata": {
  "kernelspec": {
   "display_name": "Python 3",
   "language": "python",
   "name": "python3"
  },
  "language_info": {
   "codemirror_mode": {
    "name": "ipython",
    "version": 3
   },
   "file_extension": ".py",
   "mimetype": "text/x-python",
   "name": "python",
   "nbconvert_exporter": "python",
   "pygments_lexer": "ipython3",
   "version": "3.6.5"
  }
 },
 "nbformat": 4,
 "nbformat_minor": 2
}
