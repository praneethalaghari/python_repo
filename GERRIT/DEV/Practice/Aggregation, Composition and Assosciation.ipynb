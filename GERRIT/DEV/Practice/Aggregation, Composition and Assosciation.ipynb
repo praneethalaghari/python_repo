{
 "cells": [
  {
   "cell_type": "code",
   "execution_count": null,
   "metadata": {},
   "outputs": [],
   "source": []
  },
  {
   "cell_type": "markdown",
   "metadata": {},
   "source": [
    "### COMPOSITION"
   ]
  },
  {
   "cell_type": "markdown",
   "metadata": {},
   "source": [
    "Delegation of responsibility of one class with another class is called composition"
   ]
  },
  {
   "cell_type": "code",
   "execution_count": 37,
   "metadata": {},
   "outputs": [
    {
     "name": "stdout",
     "output_type": "stream",
     "text": [
      "Mahabarata['ch_no_0', 'ch_no_1', 'ch_no_2', 'ch_no_3', 'ch_no_4', 'ch_no_5', 'ch_no_6', 'ch_no_7', 'ch_no_8', 'ch_no_9', 'ch_no_10', 'ch_no_11', 'ch_no_12', 'ch_no_13', 'ch_no_14', 'ch_no_15', 'ch_no_16', 'ch_no_17']\n"
     ]
    }
   ],
   "source": [
    "class Book:\n",
    "    def __init__(self,name,number_of_chapters):\n",
    "        self.name = name\n",
    "        self.chapters = Chapters(number_of_chapters)\n",
    "    \n",
    "    def __str__(self):\n",
    "        return self.name + str(self.chapters.chapter_names)\n",
    "    \n",
    "class Chapters:\n",
    "    def __init__(self,number_of_chapters):\n",
    "        self.no_of_chapters = number_of_chapters\n",
    "        self.chapter_names = self.name_chapters(self.no_of_chapters)\n",
    "    \n",
    "    def name_chapters(self,n):\n",
    "        return ['ch_no_' + str(ch_no) for ch_no in range(n)]        \n",
    "        \n",
    "if __name__=='__main__':\n",
    "    Mahabarata = Book('Mahabarata',18)\n",
    "    print(Mahabarata)"
   ]
  },
  {
   "cell_type": "markdown",
   "metadata": {},
   "source": [
    "Here in above case Mahabarata(Book) is having a 'HAS-A' relationship with Chapters,as we know, each book has its own seperate chapters which need not/cannot be used in another book. So composition is the choice here. if container(Book) is seperated, then chapters also need to be seperated. "
   ]
  },
  {
   "cell_type": "markdown",
   "metadata": {},
   "source": [
    "##### Lets see another example here"
   ]
  },
  {
   "cell_type": "code",
   "execution_count": 32,
   "metadata": {},
   "outputs": [
    {
     "name": "stdout",
     "output_type": "stream",
     "text": [
      "India\n",
      "['Player1', 'Player2', 'Player3', 'Player4', 'Player5', 'Player6', 'Player7', 'Player8', 'Player9', 'Player10', 'Player11']\n"
     ]
    }
   ],
   "source": [
    "class Team:\n",
    "    def __init__(self,name,*args):\n",
    "        self.team_name = name\n",
    "        self.team_players = Players(*args)\n",
    "    def __str__(self):\n",
    "        return self.team_name + '\\n' + str([player for player in self.team_players.players_list])\n",
    "        \n",
    "class Players:\n",
    "    def __init__(self,*args):\n",
    "        self.players_list = args\n",
    "        \n",
    "if __name__ == '__main__':\n",
    "   \n",
    "    t1 = Team('India','Player1','Player2','Player3','Player4','Player5','Player6','Player7','Player8','Player9','Player10','Player11')\n",
    "    print(t1)\n",
    "    \n",
    "    del t1\n",
    "    #print(t1) # This will throw error as t1 is deleted already\n",
    "    \n",
    "    "
   ]
  },
  {
   "cell_type": "markdown",
   "metadata": {},
   "source": [
    "In above case, a object 'team_players' of class 'Players' is created inside the class 'Team'.\n",
    "Here Team is called Container\n",
    "     Players is called Content\n",
    "But this is not a real case.. as we know the same players can play in domestic games and they should not get deleted when the Team object is deleted.i.e the team_players should be reusable so it has a 'USES-A' relationship hence composition cant be used.\n",
    "The solution here is to use aggregation as below"
   ]
  },
  {
   "cell_type": "code",
   "execution_count": null,
   "metadata": {},
   "outputs": [],
   "source": []
  },
  {
   "cell_type": "markdown",
   "metadata": {},
   "source": [
    "### AGGREGATION"
   ]
  },
  {
   "cell_type": "code",
   "execution_count": 38,
   "metadata": {},
   "outputs": [
    {
     "name": "stdout",
     "output_type": "stream",
     "text": [
      "India\n",
      "['Player1', 'Player2', 'Player3', 'Player4', 'Player5', 'Player6', 'Player7', 'Player8', 'Player9', 'Player10', 'Player11']\n",
      "India-B\n",
      "['Player1', 'Player2', 'Player3', 'Player4', 'Player5', 'Player6', 'Player7', 'Player8', 'Player9', 'Player10', 'Player11']\n"
     ]
    }
   ],
   "source": [
    "class Team:\n",
    "    def __init__(self,name,p1):\n",
    "        self.team_name = name\n",
    "        self.team_players = p1\n",
    "    def __str__(self):\n",
    "        return self.team_name + '\\n' + str([player for player in self.team_players.players_list])\n",
    "        \n",
    "class Players:\n",
    "    def __init__(self,*args):\n",
    "        self.players_list = args\n",
    "            \n",
    "if __name__ == '__main__':\n",
    "    p1 = Players('Player1','Player2','Player3','Player4','Player5','Player6','Player7','Player8','Player9','Player10','Player11')\n",
    "\n",
    "    t1 = Team('India',p1)\n",
    "    print(t1)\n",
    "    \n",
    "    del t1\n",
    "    #print(t1) # This will throw error as t1 is deleted already\n",
    "    \n",
    "    t2 = Team('India-B',p1)\n",
    "    print(t2)"
   ]
  },
  {
   "cell_type": "markdown",
   "metadata": {},
   "source": [
    "If we observe carefully one class's object(Players) is passed into another class(Team).but not created inside the 'Team' class.So the object is reusable and independent of the Team object. Here the use case is even the Team object is deleted, players can be included into another team.hence we go with  "
   ]
  },
  {
   "cell_type": "code",
   "execution_count": 49,
   "metadata": {},
   "outputs": [
    {
     "data": {
      "text/plain": [
       "{1: 0, 2: 0, 3: 0, 4: 0}"
      ]
     },
     "execution_count": 49,
     "metadata": {},
     "output_type": "execute_result"
    }
   ],
   "source": []
  }
 ],
 "metadata": {
  "kernelspec": {
   "display_name": "Python 3",
   "language": "python",
   "name": "python3"
  },
  "language_info": {
   "codemirror_mode": {
    "name": "ipython",
    "version": 3
   },
   "file_extension": ".py",
   "mimetype": "text/x-python",
   "name": "python",
   "nbconvert_exporter": "python",
   "pygments_lexer": "ipython3",
   "version": "3.6.5"
  }
 },
 "nbformat": 4,
 "nbformat_minor": 2
}
