{
 "cells": [
  {
   "cell_type": "markdown",
   "metadata": {},
   "source": [
    "# FLAMES"
   ]
  },
  {
   "cell_type": "code",
   "execution_count": 46,
   "metadata": {},
   "outputs": [
    {
     "name": "stdout",
     "output_type": "stream",
     "text": [
      "Enter Name 1 :abc\n",
      "Enter Name 2 :def\n",
      "3\n"
     ]
    },
    {
     "data": {
      "text/plain": [
       "['L']"
      ]
     },
     "execution_count": 46,
     "metadata": {},
     "output_type": "execute_result"
    }
   ],
   "source": [
    "raw_name_1 = input('Enter Name 1 :')\n",
    "raw_name_2 = input('Enter Name 2 :')\n",
    "\n",
    "name_1 = list(raw_name_1)\n",
    "name_2 = list(raw_name_2)\n",
    "\n",
    "count = 0\n",
    "name_1_list = []\n",
    "for x in name_1:\n",
    "    if x in name_2:\n",
    "        name_2.remove(x)\n",
    "        count += 1\n",
    "    else:\n",
    "        name_1_list.append(x)\n",
    "\n",
    "\n",
    "flames_count = count + len(name_2)\n",
    "print(flames_count)\n",
    "\n",
    "flames_list = ['F','L','A','M','E','S']\n",
    "\n",
    "while len(flames_list) != 1:\n",
    "    flames_list.pop((flames_count%len(flames_list))-1)\n",
    "    #del flames_list[(flames_count%len(flames_list))-1]\n",
    "flames_list\n"
   ]
  },
  {
   "cell_type": "code",
   "execution_count": null,
   "metadata": {},
   "outputs": [],
   "source": []
  }
 ],
 "metadata": {
  "kernelspec": {
   "display_name": "Python 3",
   "language": "python",
   "name": "python3"
  },
  "language_info": {
   "codemirror_mode": {
    "name": "ipython",
    "version": 3
   },
   "file_extension": ".py",
   "mimetype": "text/x-python",
   "name": "python",
   "nbconvert_exporter": "python",
   "pygments_lexer": "ipython3",
   "version": "3.6.5"
  }
 },
 "nbformat": 4,
 "nbformat_minor": 2
}
