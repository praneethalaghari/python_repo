{
 "cells": [
  {
   "cell_type": "markdown",
   "metadata": {},
   "source": [
    "### Question :\n",
    "\n",
    "A Farmer is using circular pivot field to plough.\n",
    "He wants to choose a set of fields along with the field on opposite side and want to add the profit of each field\n",
    "He needs to know what can be the max profit he can earn via above criteria\n",
    "\n",
    "\n",
    "#### Input :\n",
    "\n",
    "'n' fields in circular plough\n",
    "profit of each field as an array\n",
    "Num of fields he want to choose as set (set should be contigous)\n",
    "\n",
    "Eg :\n",
    "\n",
    "#### Input :\n",
    "12\n",
    "1,2,3,4,5,6,7,8,9,10,11,12\n",
    "2\n",
    "\n",
    "#### Output :\n",
    "34"
   ]
  },
  {
   "cell_type": "code",
   "execution_count": 33,
   "metadata": {
    "collapsed": true
   },
   "outputs": [
    {
     "name": "stdout",
     "output_type": "stream",
     "text": [
      "Enter number of fields : a\n"
     ]
    },
    {
     "ename": "ValueError",
     "evalue": "invalid literal for int() with base 10: 'a'",
     "output_type": "error",
     "traceback": [
      "\u001b[1;31m---------------------------------------------------------------------------\u001b[0m",
      "\u001b[1;31mValueError\u001b[0m                                Traceback (most recent call last)",
      "\u001b[1;32m<ipython-input-33-329afeaa979b>\u001b[0m in \u001b[0;36m<module>\u001b[1;34m()\u001b[0m\n\u001b[0;32m     20\u001b[0m \u001b[1;33m\u001b[0m\u001b[0m\n\u001b[0;32m     21\u001b[0m \u001b[1;32mif\u001b[0m \u001b[0m__name__\u001b[0m \u001b[1;33m==\u001b[0m \u001b[1;34m'__main__'\u001b[0m\u001b[1;33m:\u001b[0m\u001b[1;33m\u001b[0m\u001b[0m\n\u001b[1;32m---> 22\u001b[1;33m     \u001b[0mn\u001b[0m \u001b[1;33m=\u001b[0m \u001b[0mint\u001b[0m\u001b[1;33m(\u001b[0m\u001b[0minput\u001b[0m\u001b[1;33m(\u001b[0m\u001b[1;34m\"Enter number of fields : \"\u001b[0m\u001b[1;33m)\u001b[0m\u001b[1;33m)\u001b[0m\u001b[1;33m\u001b[0m\u001b[0m\n\u001b[0m\u001b[0;32m     23\u001b[0m     \u001b[0mprofits\u001b[0m \u001b[1;33m=\u001b[0m \u001b[0minput\u001b[0m\u001b[1;33m(\u001b[0m\u001b[1;34m\"Enter the profit of each field seperated by comma : \"\u001b[0m\u001b[1;33m)\u001b[0m\u001b[1;33m\u001b[0m\u001b[0m\n\u001b[0;32m     24\u001b[0m     \u001b[0mprofits\u001b[0m \u001b[1;33m=\u001b[0m \u001b[0mlist\u001b[0m\u001b[1;33m(\u001b[0m\u001b[0mmap\u001b[0m\u001b[1;33m(\u001b[0m\u001b[0mint\u001b[0m\u001b[1;33m,\u001b[0m\u001b[0mprofits\u001b[0m\u001b[1;33m.\u001b[0m\u001b[0msplit\u001b[0m\u001b[1;33m(\u001b[0m\u001b[1;34m','\u001b[0m\u001b[1;33m)\u001b[0m\u001b[1;33m)\u001b[0m\u001b[1;33m)\u001b[0m\u001b[1;33m\u001b[0m\u001b[0m\n",
      "\u001b[1;31mValueError\u001b[0m: invalid literal for int() with base 10: 'a'"
     ]
    }
   ],
   "source": [
    "def find_max_profit(profits,size_of_set):\n",
    "    p = len(profits)\n",
    "    for i in range(p//2):\n",
    "        sum_= 0\n",
    "            \n",
    "        if i == 0:     # To calculate 1st sum\n",
    "            #max_sum = sum(profits[i:i+size_of_set]) + sum(profits[p//2:p//2+size_of_set])\n",
    "            for k in range(size_of_set):\n",
    "                sum_ = sum_ + profits[(p//2 + k)%(p+1)]\n",
    "            max_sum = sum(profits[i:i+size_of_set]) + sum_\n",
    "           \n",
    "        else:\n",
    "            for k in range(size_of_set):\n",
    "                sum_ = sum_ + profits[(p//2 + i + k)%p]\n",
    "            current_sum = sum(profits[i:i+size_of_set]) + sum_\n",
    "            \n",
    "            if current_sum > max_sum:\n",
    "                max_sum = current_sum\n",
    "    return max_sum\n",
    "            \n",
    "if __name__ == '__main__':\n",
    "    n = int(input(\"Enter number of fields : \"))\n",
    "    profits = input(\"Enter the profit of each field seperated by comma : \")\n",
    "    profits = list(map(int,profits.split(',')))\n",
    "    size_of_set = int(input('Enter the size of set to be considered : '))\n",
    "    \n",
    "    max_profit = find_max_profit(profits,size_of_set)\n",
    "    print(max_profit)"
   ]
  },
  {
   "cell_type": "code",
   "execution_count": null,
   "metadata": {},
   "outputs": [],
   "source": []
  },
  {
   "cell_type": "code",
   "execution_count": null,
   "metadata": {},
   "outputs": [],
   "source": []
  },
  {
   "cell_type": "code",
   "execution_count": null,
   "metadata": {},
   "outputs": [],
   "source": []
  }
 ],
 "metadata": {
  "kernelspec": {
   "display_name": "Python 3",
   "language": "python",
   "name": "python3"
  },
  "language_info": {
   "codemirror_mode": {
    "name": "ipython",
    "version": 3
   },
   "file_extension": ".py",
   "mimetype": "text/x-python",
   "name": "python",
   "nbconvert_exporter": "python",
   "pygments_lexer": "ipython3",
   "version": "3.6.5"
  }
 },
 "nbformat": 4,
 "nbformat_minor": 2
}
