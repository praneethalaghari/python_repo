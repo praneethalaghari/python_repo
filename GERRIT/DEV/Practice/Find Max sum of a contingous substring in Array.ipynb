{
 "cells": [
  {
   "cell_type": "code",
   "execution_count": 12,
   "metadata": {},
   "outputs": [
    {
     "name": "stdout",
     "output_type": "stream",
     "text": [
      "-1:-2:-3:53:-2:-4\n",
      "[-1, -2, -3, 53, -2, -4]\n",
      "53\n"
     ]
    }
   ],
   "source": [
    "def max_length(arr):\n",
    "    max_len = arr[0]\n",
    "    for x in range(len(arr)):\n",
    "        sum = arr[x]\n",
    "        if sum > max_len:\n",
    "            max_len = sum\n",
    "        for y in arr[x+1:len(arr)]:\n",
    "            sum = sum + y\n",
    "            if sum > max_len:\n",
    "                max_len = sum\n",
    "\n",
    "    return max_len\n",
    "\n",
    "\n",
    "if __name__ == \"__main__\":\n",
    "    arr = list(map(int,input().split(':')))\n",
    "    print(arr)\n",
    "    max_length = max_length(arr)\n",
    "    print(max_length)"
   ]
  },
  {
   "cell_type": "code",
   "execution_count": null,
   "metadata": {},
   "outputs": [],
   "source": []
  },
  {
   "cell_type": "code",
   "execution_count": null,
   "metadata": {},
   "outputs": [],
   "source": []
  }
 ],
 "metadata": {
  "kernelspec": {
   "display_name": "Python 3",
   "language": "python",
   "name": "python3"
  },
  "language_info": {
   "codemirror_mode": {
    "name": "ipython",
    "version": 3
   },
   "file_extension": ".py",
   "mimetype": "text/x-python",
   "name": "python",
   "nbconvert_exporter": "python",
   "pygments_lexer": "ipython3",
   "version": "3.6.5"
  }
 },
 "nbformat": 4,
 "nbformat_minor": 2
}
