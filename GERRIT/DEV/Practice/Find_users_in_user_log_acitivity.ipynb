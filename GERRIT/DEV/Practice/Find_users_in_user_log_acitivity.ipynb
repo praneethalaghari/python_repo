{
 "cells": [
  {
   "cell_type": "markdown",
   "metadata": {},
   "source": [
    "### Question :\n",
    "\n",
    "Given a log which contains strings of user activities seperated by comma\n",
    "Eg : 1 2 34,3 4 44,5 6 78\n",
    "\n",
    "1st element is sender_user,2nd element is recipient_user,3rd element is transaction amount\n",
    "\n",
    "So given number of log activities,log activities and threshold\n",
    "\n",
    "List the users(could be both as a recipient_user and a sender) who got logged in the log provided in sorting order\n",
    "Condtion : one condtion is that if both sender,recipient are same then count as one transaction by user\n",
    "\n",
    "Eg : \n",
    "\n",
    "##### Input :\n",
    "\n",
    "4  (number of log activities)\n",
    "\n",
    "1 2 34,3 4 44,5 6 78,1 1 24,4 5 96 (log)\n",
    "\n",
    "2 (threshold)\n",
    "\n",
    "##### output : \n",
    "\n",
    "1\n",
    "3\n",
    "4\n",
    "5\n"
   ]
  },
  {
   "cell_type": "code",
   "execution_count": 12,
   "metadata": {
    "collapsed": true
   },
   "outputs": [
    {
     "name": "stdout",
     "output_type": "stream",
     "text": [
      "Enter the number of transactions in log :5\n",
      "Enter the log activity1 2 34,3 4 44,5 6 78,1 1 24,4 5 96\n",
      "Enter the threshold value1\n",
      "Counter({'1': 2, '4': 2, '5': 2, '2': 1, '3': 1, '6': 1})\n",
      "1\n",
      "2\n",
      "3\n",
      "4\n",
      "5\n",
      "6\n"
     ]
    }
   ],
   "source": [
    "import collections\n",
    "\n",
    "def detect_users(log,t):\n",
    "    users = []\n",
    "    for i in log:\n",
    "        if i.split(' ')[0] == i.split(' ')[1]:\n",
    "            users.append(i.split(' ')[0])\n",
    "        else:\n",
    "            users.append(i.split(' ')[0])\n",
    "            users.append(i.split(' ')[1])\n",
    "            \n",
    "    users_list = collections.Counter(users)\n",
    "    \n",
    "    print(users_list)\n",
    "    result = []\n",
    "    \n",
    "    for key,value in users_list.items():\n",
    "        if value >= t:\n",
    "            result.append(key)\n",
    "    \n",
    "    result = list(map(int,result))\n",
    "    result.sort()\n",
    "    result = list(map(str,result))\n",
    "    \n",
    "    return result\n",
    "    \n",
    "if __name__ == '__main__':\n",
    "    k = int(input(\"Enter the number of transactions in log :\"))\n",
    "    log = input(\"Enter the log activity\")\n",
    "    t = int(input(\"Enter the threshold value\"))\n",
    "    \n",
    "    log_activity_list = log.split(',')\n",
    "    users_list = detect_users(log_activity_list,t)\n",
    "    \n",
    "    print('\\n'.join(users_list))"
   ]
  },
  {
   "cell_type": "code",
   "execution_count": null,
   "metadata": {},
   "outputs": [],
   "source": []
  }
 ],
 "metadata": {
  "kernelspec": {
   "display_name": "Python 3",
   "language": "python",
   "name": "python3"
  },
  "language_info": {
   "codemirror_mode": {
    "name": "ipython",
    "version": 3
   },
   "file_extension": ".py",
   "mimetype": "text/x-python",
   "name": "python",
   "nbconvert_exporter": "python",
   "pygments_lexer": "ipython3",
   "version": "3.6.5"
  }
 },
 "nbformat": 4,
 "nbformat_minor": 2
}
