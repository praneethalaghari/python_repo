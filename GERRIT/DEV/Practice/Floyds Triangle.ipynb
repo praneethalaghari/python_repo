{
 "cells": [
  {
   "cell_type": "code",
   "execution_count": 5,
   "metadata": {},
   "outputs": [
    {
     "name": "stdout",
     "output_type": "stream",
     "text": [
      "1 \n",
      "\n",
      "2 3 \n",
      "\n",
      "4 5 6 \n",
      "\n",
      "7 8 9 10 \n",
      "\n",
      "11 12 13 14 15 \n",
      "\n",
      "16 17 18 19 20 21 \n",
      "\n",
      "22 23 24 25 26 27 28 \n",
      "\n",
      "29 30 31 32 33 34 35 36 \n",
      "\n",
      "37 38 39 40 41 42 43 44 45 \n",
      "\n"
     ]
    }
   ],
   "source": [
    "p = 0\n",
    "for x in range(1,10):\n",
    "    k = 0\n",
    "    while k != x:\n",
    "        global p\n",
    "        p = p+1\n",
    "        print(p,end = \" \")\n",
    "        k+=1\n",
    "    print(\"\\n\")"
   ]
  }
 ],
 "metadata": {
  "kernelspec": {
   "display_name": "Python 3",
   "language": "python",
   "name": "python3"
  },
  "language_info": {
   "codemirror_mode": {
    "name": "ipython",
    "version": 3
   },
   "file_extension": ".py",
   "mimetype": "text/x-python",
   "name": "python",
   "nbconvert_exporter": "python",
   "pygments_lexer": "ipython3",
   "version": "3.6.5"
  }
 },
 "nbformat": 4,
 "nbformat_minor": 2
}
