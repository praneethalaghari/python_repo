{
 "cells": [
  {
   "cell_type": "code",
   "execution_count": 3,
   "metadata": {},
   "outputs": [
    {
     "name": "stdout",
     "output_type": "stream",
     "text": [
      "2 3 -1 -33 7 6 5 -2 11 13\n",
      "2\n",
      "5\n",
      "4\n",
      "-29\n",
      "7\n",
      "13\n",
      "18\n",
      "16\n",
      "27\n",
      "40\n",
      "40\n"
     ]
    }
   ],
   "source": [
    "def max_length(arr):\n",
    "    max_len = 0\n",
    "    local_max_len = 0\n",
    "    for x in arr:\n",
    "        local_max_len = max(x,x+local_max_len)\n",
    "        print(local_max_len)\n",
    "        if(local_max_len>max_len):\n",
    "            max_len = local_max_len\n",
    "    return max_len\n",
    "\n",
    "\n",
    "if __name__ == \"__main__\":\n",
    "    arr = list(map(int,input().split()))\n",
    "    max_length = max_length(arr)\n",
    "    print(max_length)\n"
   ]
  }
 ],
 "metadata": {
  "kernelspec": {
   "display_name": "Python 3",
   "language": "python",
   "name": "python3"
  },
  "language_info": {
   "codemirror_mode": {
    "name": "ipython",
    "version": 3
   },
   "file_extension": ".py",
   "mimetype": "text/x-python",
   "name": "python",
   "nbconvert_exporter": "python",
   "pygments_lexer": "ipython3",
   "version": "3.6.5"
  }
 },
 "nbformat": 4,
 "nbformat_minor": 2
}
