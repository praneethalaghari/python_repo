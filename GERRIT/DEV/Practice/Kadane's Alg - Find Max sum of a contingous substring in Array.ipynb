{
 "cells": [
  {
   "cell_type": "code",
   "execution_count": 1,
   "metadata": {},
   "outputs": [
    {
     "name": "stdout",
     "output_type": "stream",
     "text": [
      "2 3 -1 -33 7 6 5 -2 11 13\n",
      "local max length : 2\n",
      "Max length : 2\n",
      "local max length : 5\n",
      "Max length : 5\n",
      "local max length : 4\n",
      "local max length : -29\n",
      "local max length : 7\n",
      "Max length : 7\n",
      "local max length : 13\n",
      "Max length : 13\n",
      "local max length : 18\n",
      "Max length : 18\n",
      "local max length : 16\n",
      "local max length : 27\n",
      "Max length : 27\n",
      "local max length : 40\n",
      "Max length : 40\n",
      "40\n"
     ]
    }
   ],
   "source": [
    "def max_length(arr):\n",
    "    max_len = 0\n",
    "    local_max_len = 0\n",
    "    for x in arr:\n",
    "        local_max_len = max(x,x+local_max_len)\n",
    "        print(\"local max length :\", local_max_len)\n",
    "        if(local_max_len>max_len):\n",
    "            max_len = local_max_len\n",
    "            print(\"Max length :\", max_len)\n",
    "    return max_len\n",
    "\n",
    "\n",
    "if __name__ == \"__main__\":\n",
    "    arr = list(map(int,input().split()))\n",
    "    max_length = max_length(arr)\n",
    "    print(max_length)\n"
   ]
  },
  {
   "cell_type": "code",
   "execution_count": null,
   "metadata": {},
   "outputs": [],
   "source": []
  }
 ],
 "metadata": {
  "kernelspec": {
   "display_name": "Python 3",
   "language": "python",
   "name": "python3"
  },
  "language_info": {
   "codemirror_mode": {
    "name": "ipython",
    "version": 3
   },
   "file_extension": ".py",
   "mimetype": "text/x-python",
   "name": "python",
   "nbconvert_exporter": "python",
   "pygments_lexer": "ipython3",
   "version": "3.6.5"
  }
 },
 "nbformat": 4,
 "nbformat_minor": 2
}
