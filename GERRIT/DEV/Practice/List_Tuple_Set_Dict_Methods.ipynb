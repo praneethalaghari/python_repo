{
 "cells": [
  {
   "cell_type": "markdown",
   "metadata": {},
   "source": [
    "## LIST"
   ]
  },
  {
   "cell_type": "code",
   "execution_count": 113,
   "metadata": {},
   "outputs": [],
   "source": [
    "a = [1,2,3]\n",
    "\n",
    "len(a)\n",
    "a.append(4)\n",
    "a.extend([5,6])\n",
    "a.remove(6)\n",
    "max(a)\n",
    "min(a)\n",
    "sum(a)\n",
    "a.sort()\n",
    "sorted(a)\n",
    "a.reverse()\n",
    "a = list(reversed(a))\n",
    "a.append(6)\n",
    "a.pop()\n",
    "a.insert(0,0)\n",
    "a.count(1)\n",
    "a.index(1)\n",
    "del a[5]\n",
    "slice_obj_1 = slice(0,len(a)-1,2)\n",
    "slice_obj_2 = slice(1,len(a)-1,2)\n",
    "a[slice_obj_1],a[slice_obj_2]\n",
    "\n",
    "a = [1,2];b = [3,4]\n",
    "c = a + b"
   ]
  },
  {
   "cell_type": "code",
   "execution_count": null,
   "metadata": {},
   "outputs": [],
   "source": []
  },
  {
   "cell_type": "markdown",
   "metadata": {},
   "source": [
    "## TUPLE"
   ]
  },
  {
   "cell_type": "code",
   "execution_count": 118,
   "metadata": {},
   "outputs": [
    {
     "ename": "NameError",
     "evalue": "name 'cmp' is not defined",
     "output_type": "error",
     "traceback": [
      "\u001b[1;31m---------------------------------------------------------------------------\u001b[0m",
      "\u001b[1;31mNameError\u001b[0m                                 Traceback (most recent call last)",
      "\u001b[1;32m<ipython-input-118-48a9c60f288e>\u001b[0m in \u001b[0;36m<module>\u001b[1;34m()\u001b[0m\n\u001b[0;32m      8\u001b[0m \u001b[1;31m#del a[1]  # Not possible\u001b[0m\u001b[1;33m\u001b[0m\u001b[1;33m\u001b[0m\u001b[0m\n\u001b[0;32m      9\u001b[0m \u001b[1;32mdel\u001b[0m \u001b[0ma\u001b[0m\u001b[1;33m\u001b[0m\u001b[0m\n\u001b[1;32m---> 10\u001b[1;33m \u001b[0mcmp\u001b[0m\u001b[1;33m(\u001b[0m\u001b[0ma\u001b[0m\u001b[1;33m,\u001b[0m\u001b[0mb\u001b[0m\u001b[1;33m)\u001b[0m\u001b[1;33m\u001b[0m\u001b[0m\n\u001b[0m",
      "\u001b[1;31mNameError\u001b[0m: name 'cmp' is not defined"
     ]
    }
   ],
   "source": [
    "a = (1,2,3,4,5)\n",
    "b = tuple({4,8,0,1,2,7})\n",
    "\n",
    "len(a)\n",
    "a.count(2)\n",
    "sorted(b)  #Sorted() sorts any sequence (list, tuple) and always returns a list with the elements in sorted manner, without modifying the original sequence\n",
    "c = a + b\n",
    "#del a[1]  # Not possible\n",
    "del a\n",
    "cmp(a,b)"
   ]
  },
  {
   "cell_type": "code",
   "execution_count": null,
   "metadata": {},
   "outputs": [],
   "source": []
  },
  {
   "cell_type": "markdown",
   "metadata": {},
   "source": [
    "## SET"
   ]
  },
  {
   "cell_type": "markdown",
   "metadata": {},
   "source": [
    "Sets are ordered by default <br>\n",
    "Dont contain duplicate values <br>\n",
    "Sets dont support indexing"
   ]
  },
  {
   "cell_type": "code",
   "execution_count": 116,
   "metadata": {},
   "outputs": [
    {
     "data": {
      "text/plain": [
       "{1, 4, 7, 11}"
      ]
     },
     "execution_count": 116,
     "metadata": {},
     "output_type": "execute_result"
    }
   ],
   "source": [
    "a = {3,2,1,9,5,6,4}     # Sets are ordered by default,dont contain duplicate values\n",
    "b = set([2,3,9,1,5,6,11])\n",
    "a.add(7)\n",
    "len(a)\n",
    "a.remove(1)\n",
    "#c = a.union(b)\n",
    "#c = a.intersection(b)\n",
    "#c = a.difference(b)\n",
    "c = a|b       # same as a.union(b)\n",
    "c = a & b     # same as a.intersection(b)\n",
    "c = a-b|b-a       # Uncommon elements\n",
    "c.clear()\n",
    "c.add((1,2))\n",
    "#c.add({1,2}),c.add([1,2])      # Unhashable type\n",
    "a < b                          # tells if a is subset of b\n",
    "a <= b                         # tells if a is proper subset of b\n",
    "a > b                          # tells if a is superset of b \n",
    "a >= b                         # tells if a is proper superset of b\n",
    "a.issubset(b)\n",
    "a.issuperset(b)\n",
    "a.isdisjoint(b)                # Nothing in common\n",
    "a.symmetric_difference(b)      # Uncommon items"
   ]
  },
  {
   "cell_type": "code",
   "execution_count": null,
   "metadata": {},
   "outputs": [],
   "source": []
  },
  {
   "cell_type": "markdown",
   "metadata": {},
   "source": [
    "## DICTIONARY"
   ]
  },
  {
   "cell_type": "code",
   "execution_count": 2,
   "metadata": {},
   "outputs": [],
   "source": [
    "d1 = {}\n",
    "d2 = dict()"
   ]
  },
  {
   "cell_type": "code",
   "execution_count": 1,
   "metadata": {},
   "outputs": [
    {
     "data": {
      "text/plain": [
       "{1: 0, 2: 0, 3: 0, 4: 0}"
      ]
     },
     "execution_count": 1,
     "metadata": {},
     "output_type": "execute_result"
    }
   ],
   "source": [
    "#How to initialize dict with default values :\n",
    "\n",
    "#Way - 1\n",
    "a = [1,2,3,4]\n",
    "word_dict = {x:0 for x in a}\n",
    "\n",
    "#Way - 2\n",
    "word_dict_2 = {}\n",
    "\n",
    "for x in a:\n",
    "    if word_dict_2.get(x) == None:\n",
    "        word_dict_2[x] = 0\n",
    "word_dict_2"
   ]
  },
  {
   "cell_type": "code",
   "execution_count": 35,
   "metadata": {},
   "outputs": [
    {
     "data": {
      "text/plain": [
       "[(1, 2), (2, 3), (3, 4), (4, 5)]"
      ]
     },
     "execution_count": 35,
     "metadata": {},
     "output_type": "execute_result"
    }
   ],
   "source": [
    "a = [1,2,3,4,5]\n",
    "list(zip(a[:],a[1:]))"
   ]
  },
  {
   "cell_type": "code",
   "execution_count": null,
   "metadata": {},
   "outputs": [],
   "source": []
  }
 ],
 "metadata": {
  "kernelspec": {
   "display_name": "Python 3",
   "language": "python",
   "name": "python3"
  },
  "language_info": {
   "codemirror_mode": {
    "name": "ipython",
    "version": 3
   },
   "file_extension": ".py",
   "mimetype": "text/x-python",
   "name": "python",
   "nbconvert_exporter": "python",
   "pygments_lexer": "ipython3",
   "version": "3.6.5"
  }
 },
 "nbformat": 4,
 "nbformat_minor": 2
}
