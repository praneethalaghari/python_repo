{
 "cells": [
  {
   "cell_type": "code",
   "execution_count": 25,
   "metadata": {},
   "outputs": [
    {
     "name": "stdout",
     "output_type": "stream",
     "text": [
      "Enter no. of lines :10\n",
      "           1\n",
      "          1 1\n",
      "         1 2 1\n",
      "        1 3 3 1\n",
      "       1 4 6 4 1\n",
      "      1 5 10 10 5 1\n",
      "     1 6 15 20 15 6 1\n",
      "    1 7 21 35 35 21 7 1\n",
      "   1 8 28 56 70 56 28 8 1\n",
      "  1 9 36 84 126 126 84 36 9 1\n",
      " 1 10 45 120 210 252 210 120 45 10 1\n"
     ]
    }
   ],
   "source": [
    "import itertools\n",
    "\n",
    "if __name__ == '__main__':\n",
    "    n = int(input(\"Enter no. of lines :\"))\n",
    "    row = [1]\n",
    "    print(\" \"*(n+1),end = \"\")\n",
    "    print(\" \".join(map(str,row)))\n",
    "    for _ in range(n):\n",
    "        row[1:] = list(map(lambda x,y:x+y,row[:],row[1:]))\n",
    "        row.append(1)\n",
    "        print(\" \"*(n-_),end = \"\")\n",
    "        print(\" \".join(list(map(str,row))))"
   ]
  },
  {
   "cell_type": "code",
   "execution_count": null,
   "metadata": {},
   "outputs": [],
   "source": []
  }
 ],
 "metadata": {
  "kernelspec": {
   "display_name": "Python 3",
   "language": "python",
   "name": "python3"
  },
  "language_info": {
   "codemirror_mode": {
    "name": "ipython",
    "version": 3
   },
   "file_extension": ".py",
   "mimetype": "text/x-python",
   "name": "python",
   "nbconvert_exporter": "python",
   "pygments_lexer": "ipython3",
   "version": "3.6.5"
  }
 },
 "nbformat": 4,
 "nbformat_minor": 2
}
