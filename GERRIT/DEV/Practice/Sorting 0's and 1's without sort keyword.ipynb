{
 "cells": [
  {
   "cell_type": "code",
   "execution_count": 4,
   "metadata": {},
   "outputs": [
    {
     "name": "stdout",
     "output_type": "stream",
     "text": [
      "0 1 0 1 1 1 0 0 0 1 1 0 0 0 1 1 1 1 1 0 0 1\n",
      "[0, 1, 0, 1, 1, 1, 0, 0, 0, 1, 1, 0, 0, 0, 1, 1, 1, 1, 1, 0, 0, 1]\n",
      "[0, 0, 0, 0, 0, 0, 0, 0, 0, 0, 1, 1, 1, 1, 1, 1, 1, 1, 1, 1, 1, 1]\n"
     ]
    }
   ],
   "source": [
    "def sort(arr):\n",
    "    x = 0\n",
    "    y = len(arr)-1\n",
    "    while x < y:\n",
    "        if arr[x] < arr[y]:\n",
    "            x = x+1\n",
    "        elif arr[x] > arr[y]:\n",
    "            arr[x],arr[y] = arr[y],arr[x]\n",
    "            x = x+1\n",
    "            y = y-1\n",
    "        else:\n",
    "            if arr[x] == 0:\n",
    "                x = x+1\n",
    "            elif arr[x]==1:\n",
    "                y = y-1\n",
    "    return arr\n",
    "        \n",
    "arr = list(map(int,input().split()))\n",
    "print(arr)\n",
    "print(sort(arr))        \n"
   ]
  },
  {
   "cell_type": "code",
   "execution_count": null,
   "metadata": {},
   "outputs": [],
   "source": []
  }
 ],
 "metadata": {
  "kernelspec": {
   "display_name": "Python 3",
   "language": "python",
   "name": "python3"
  },
  "language_info": {
   "codemirror_mode": {
    "name": "ipython",
    "version": 3
   },
   "file_extension": ".py",
   "mimetype": "text/x-python",
   "name": "python",
   "nbconvert_exporter": "python",
   "pygments_lexer": "ipython3",
   "version": "3.6.5"
  }
 },
 "nbformat": 4,
 "nbformat_minor": 2
}
