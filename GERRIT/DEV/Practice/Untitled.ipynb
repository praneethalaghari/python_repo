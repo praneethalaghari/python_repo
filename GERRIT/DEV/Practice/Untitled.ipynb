{
 "cells": [
  {
   "cell_type": "code",
   "execution_count": 2,
   "metadata": {},
   "outputs": [
    {
     "name": "stdout",
     "output_type": "stream",
     "text": [
      "1584872130.7698386\n",
      "Hello Praneeth!\n",
      "1584872130.7698386\n"
     ]
    }
   ],
   "source": [
    "import time\n",
    "\n",
    "def decorate_print(func):\n",
    "    def inner_func(*args,**kwargs):\n",
    "        print(time.time())\n",
    "        func(*args,**kwargs)\n",
    "        print(time.time())\n",
    "    return inner_func\n",
    "\n",
    "@decorate_print\n",
    "def print_():\n",
    "    print(\"Hello Praneeth!\")\n",
    "\n",
    "\n",
    "if __name__ == '__main__':\n",
    "    print_()"
   ]
  }
 ],
 "metadata": {
  "kernelspec": {
   "display_name": "Python 3",
   "language": "python",
   "name": "python3"
  },
  "language_info": {
   "codemirror_mode": {
    "name": "ipython",
    "version": 3
   },
   "file_extension": ".py",
   "mimetype": "text/x-python",
   "name": "python",
   "nbconvert_exporter": "python",
   "pygments_lexer": "ipython3",
   "version": "3.6.5"
  }
 },
 "nbformat": 4,
 "nbformat_minor": 2
}
